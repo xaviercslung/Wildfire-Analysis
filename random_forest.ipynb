{
 "cells": [
  {
   "cell_type": "code",
   "execution_count": 1,
   "metadata": {},
   "outputs": [],
   "source": [
    "import sqlite3\n",
    "import pandas as pd\n",
    "import matplotlib.pyplot as plt\n",
    "import numpy as np\n",
    "\n",
    "from sklearn import tree, preprocessing\n",
    "import sklearn.ensemble as ske\n",
    "from sklearn.model_selection import train_test_split"
   ]
  },
  {
   "cell_type": "code",
   "execution_count": 167,
   "metadata": {},
   "outputs": [],
   "source": [
    "# connect the database\n",
    "sql = sqlite3.connect('./data/FPA_FOD_20170508.sqlite')"
   ]
  },
  {
   "cell_type": "code",
   "execution_count": 168,
   "metadata": {},
   "outputs": [],
   "source": [
    "# create dataframe fome the database\n",
    "df = pd.read_sql_query(\"SELECT FIRE_YEAR,STAT_CAUSE_DESCR,LATITUDE,LONGITUDE,STATE,DISCOVERY_DATE,FIRE_SIZE FROM 'Fires'\", sql)"
   ]
  },
  {
   "cell_type": "code",
   "execution_count": 169,
   "metadata": {},
   "outputs": [
    {
     "data": {
      "text/html": [
       "<div>\n",
       "<style scoped>\n",
       "    .dataframe tbody tr th:only-of-type {\n",
       "        vertical-align: middle;\n",
       "    }\n",
       "\n",
       "    .dataframe tbody tr th {\n",
       "        vertical-align: top;\n",
       "    }\n",
       "\n",
       "    .dataframe thead th {\n",
       "        text-align: right;\n",
       "    }\n",
       "</style>\n",
       "<table border=\"1\" class=\"dataframe\">\n",
       "  <thead>\n",
       "    <tr style=\"text-align: right;\">\n",
       "      <th></th>\n",
       "      <th>FIRE_YEAR</th>\n",
       "      <th>STAT_CAUSE_DESCR</th>\n",
       "      <th>LATITUDE</th>\n",
       "      <th>LONGITUDE</th>\n",
       "      <th>STATE</th>\n",
       "      <th>DISCOVERY_DATE</th>\n",
       "      <th>FIRE_SIZE</th>\n",
       "    </tr>\n",
       "  </thead>\n",
       "  <tbody>\n",
       "    <tr>\n",
       "      <th>0</th>\n",
       "      <td>2005</td>\n",
       "      <td>Miscellaneous</td>\n",
       "      <td>40.036944</td>\n",
       "      <td>-121.005833</td>\n",
       "      <td>CA</td>\n",
       "      <td>2453403.5</td>\n",
       "      <td>0.10</td>\n",
       "    </tr>\n",
       "    <tr>\n",
       "      <th>1</th>\n",
       "      <td>2004</td>\n",
       "      <td>Lightning</td>\n",
       "      <td>38.933056</td>\n",
       "      <td>-120.404444</td>\n",
       "      <td>CA</td>\n",
       "      <td>2453137.5</td>\n",
       "      <td>0.25</td>\n",
       "    </tr>\n",
       "    <tr>\n",
       "      <th>2</th>\n",
       "      <td>2004</td>\n",
       "      <td>Debris Burning</td>\n",
       "      <td>38.984167</td>\n",
       "      <td>-120.735556</td>\n",
       "      <td>CA</td>\n",
       "      <td>2453156.5</td>\n",
       "      <td>0.10</td>\n",
       "    </tr>\n",
       "    <tr>\n",
       "      <th>3</th>\n",
       "      <td>2004</td>\n",
       "      <td>Lightning</td>\n",
       "      <td>38.559167</td>\n",
       "      <td>-119.913333</td>\n",
       "      <td>CA</td>\n",
       "      <td>2453184.5</td>\n",
       "      <td>0.10</td>\n",
       "    </tr>\n",
       "    <tr>\n",
       "      <th>4</th>\n",
       "      <td>2004</td>\n",
       "      <td>Lightning</td>\n",
       "      <td>38.559167</td>\n",
       "      <td>-119.933056</td>\n",
       "      <td>CA</td>\n",
       "      <td>2453184.5</td>\n",
       "      <td>0.10</td>\n",
       "    </tr>\n",
       "  </tbody>\n",
       "</table>\n",
       "</div>"
      ],
      "text/plain": [
       "   FIRE_YEAR STAT_CAUSE_DESCR   LATITUDE   LONGITUDE STATE  DISCOVERY_DATE  \\\n",
       "0       2005    Miscellaneous  40.036944 -121.005833    CA       2453403.5   \n",
       "1       2004        Lightning  38.933056 -120.404444    CA       2453137.5   \n",
       "2       2004   Debris Burning  38.984167 -120.735556    CA       2453156.5   \n",
       "3       2004        Lightning  38.559167 -119.913333    CA       2453184.5   \n",
       "4       2004        Lightning  38.559167 -119.933056    CA       2453184.5   \n",
       "\n",
       "   FIRE_SIZE  \n",
       "0       0.10  \n",
       "1       0.25  \n",
       "2       0.10  \n",
       "3       0.10  \n",
       "4       0.10  "
      ]
     },
     "execution_count": 169,
     "metadata": {},
     "output_type": "execute_result"
    }
   ],
   "source": [
    "data = df.copy()\n",
    "data.head()"
   ]
  },
  {
   "cell_type": "code",
   "execution_count": 170,
   "metadata": {},
   "outputs": [],
   "source": [
    "# convert date from julian formate to gregorian dates\n",
    "data['DATE'] = pd.to_datetime(data['DISCOVERY_DATE'] - pd.Timestamp(0).to_julian_date(), unit='D')"
   ]
  },
  {
   "cell_type": "code",
   "execution_count": 171,
   "metadata": {},
   "outputs": [],
   "source": [
    "# to get month and dow from date\n",
    "data['MONTH'] = pd.DatetimeIndex(wf['DATE']).month\n",
    "data['DAY_OF_WEEK'] = data['DATE'].dt.dayofweek\n",
    "rf_data = data.copy()"
   ]
  },
  {
   "cell_type": "code",
   "execution_count": 172,
   "metadata": {},
   "outputs": [
    {
     "data": {
      "text/plain": [
       "Text(0.5, 1.0, 'Causes of Fires')"
      ]
     },
     "execution_count": 172,
     "metadata": {},
     "output_type": "execute_result"
    },
    {
     "data": {
      "image/png": "[encoded data removed]",
      "text/plain": [
       "<Figure size 720x360 with 1 Axes>"
      ]
     },
     "metadata": {
      "needs_background": "light"
     },
     "output_type": "display_data"
    }
   ],
   "source": [
    "# number of fires among each category\n",
    "fig,ax = plt.subplots(figsize=(10,5))\n",
    "ax = data['STAT_CAUSE_DESCR'].value_counts().plot(kind='barh',color='red')\n",
    "ax.set_title('Causes of Fires')"
   ]
  },
  {
   "cell_type": "code",
   "execution_count": 173,
   "metadata": {},
   "outputs": [
    {
     "data": {
      "text/plain": [
       "Text(0.5, 1.0, 'Number of fires within weeks')"
      ]
     },
     "execution_count": 173,
     "metadata": {},
     "output_type": "execute_result"
    },
    {
     "data": {
      "image/png": "[encoded data removed]",
      "text/plain": [
       "<Figure size 720x360 with 1 Axes>"
      ]
     },
     "metadata": {
      "needs_background": "light"
     },
     "output_type": "display_data"
    }
   ],
   "source": [
    "# number of fires everyday\n",
    "fig,ax = plt.subplots(figsize=(10,5))\n",
    "ax = data['DAY_OF_WEEK'].value_counts().plot(kind='barh',color='red')\n",
    "ax.set_title('Number of fires within weeks')"
   ]
  },
  {
   "cell_type": "code",
   "execution_count": 174,
   "metadata": {},
   "outputs": [
    {
     "data": {
      "image/png": "[encoded data removed]",
      "text/plain": [
       "<Figure size 720x360 with 1 Axes>"
      ]
     },
     "metadata": {
      "needs_background": "light"
     },
     "output_type": "display_data"
    }
   ],
   "source": [
    "# 10 states that have most of the fires\n",
    "fig,ax=plt.subplots(figsize=(10,5))\n",
    "ax=data['STATE'].value_counts().head(10).plot(kind='barh',color='red')"
   ]
  },
  {
   "cell_type": "markdown",
   "metadata": {},
   "source": [
    "# Pre-process for machine learning"
   ]
  },
  {
   "cell_type": "code",
   "execution_count": 175,
   "metadata": {},
   "outputs": [],
   "source": [
    "# label encode\n",
    "encoder = preprocessing.LabelEncoder()\n",
    "data['STAT_CAUSE_DESCR'] = encoder.fit_transform(data['STAT_CAUSE_DESCR'])\n",
    "data['STATE'] = encoder.fit_transform(data['STATE'])\n",
    "data['DAY_OF_WEEK'] = encoder.fit_transform(data['DAY_OF_WEEK'])"
   ]
  },
  {
   "cell_type": "code",
   "execution_count": 176,
   "metadata": {},
   "outputs": [],
   "source": [
    "# drop data column\n",
    "data.drop('DATE',axis=1,inplace=True)"
   ]
  },
  {
   "cell_type": "code",
   "execution_count": 177,
   "metadata": {},
   "outputs": [
    {
     "data": {
      "text/html": [
       "<div>\n",
       "<style scoped>\n",
       "    .dataframe tbody tr th:only-of-type {\n",
       "        vertical-align: middle;\n",
       "    }\n",
       "\n",
       "    .dataframe tbody tr th {\n",
       "        vertical-align: top;\n",
       "    }\n",
       "\n",
       "    .dataframe thead th {\n",
       "        text-align: right;\n",
       "    }\n",
       "</style>\n",
       "<table border=\"1\" class=\"dataframe\">\n",
       "  <thead>\n",
       "    <tr style=\"text-align: right;\">\n",
       "      <th></th>\n",
       "      <th>FIRE_YEAR</th>\n",
       "      <th>STAT_CAUSE_DESCR</th>\n",
       "      <th>LATITUDE</th>\n",
       "      <th>LONGITUDE</th>\n",
       "      <th>STATE</th>\n",
       "      <th>DISCOVERY_DATE</th>\n",
       "      <th>FIRE_SIZE</th>\n",
       "      <th>MONTH</th>\n",
       "      <th>DAY_OF_WEEK</th>\n",
       "    </tr>\n",
       "  </thead>\n",
       "  <tbody>\n",
       "    <tr>\n",
       "      <th>0</th>\n",
       "      <td>2005</td>\n",
       "      <td>7</td>\n",
       "      <td>40.036944</td>\n",
       "      <td>-121.005833</td>\n",
       "      <td>4</td>\n",
       "      <td>2453403.5</td>\n",
       "      <td>0.10</td>\n",
       "      <td>2</td>\n",
       "      <td>2</td>\n",
       "    </tr>\n",
       "    <tr>\n",
       "      <th>1</th>\n",
       "      <td>2004</td>\n",
       "      <td>6</td>\n",
       "      <td>38.933056</td>\n",
       "      <td>-120.404444</td>\n",
       "      <td>4</td>\n",
       "      <td>2453137.5</td>\n",
       "      <td>0.25</td>\n",
       "      <td>5</td>\n",
       "      <td>2</td>\n",
       "    </tr>\n",
       "    <tr>\n",
       "      <th>2</th>\n",
       "      <td>2004</td>\n",
       "      <td>3</td>\n",
       "      <td>38.984167</td>\n",
       "      <td>-120.735556</td>\n",
       "      <td>4</td>\n",
       "      <td>2453156.5</td>\n",
       "      <td>0.10</td>\n",
       "      <td>5</td>\n",
       "      <td>0</td>\n",
       "    </tr>\n",
       "    <tr>\n",
       "      <th>3</th>\n",
       "      <td>2004</td>\n",
       "      <td>6</td>\n",
       "      <td>38.559167</td>\n",
       "      <td>-119.913333</td>\n",
       "      <td>4</td>\n",
       "      <td>2453184.5</td>\n",
       "      <td>0.10</td>\n",
       "      <td>6</td>\n",
       "      <td>0</td>\n",
       "    </tr>\n",
       "    <tr>\n",
       "      <th>4</th>\n",
       "      <td>2004</td>\n",
       "      <td>6</td>\n",
       "      <td>38.559167</td>\n",
       "      <td>-119.933056</td>\n",
       "      <td>4</td>\n",
       "      <td>2453184.5</td>\n",
       "      <td>0.10</td>\n",
       "      <td>6</td>\n",
       "      <td>0</td>\n",
       "    </tr>\n",
       "  </tbody>\n",
       "</table>\n",
       "</div>"
      ],
      "text/plain": [
       "   FIRE_YEAR  STAT_CAUSE_DESCR   LATITUDE   LONGITUDE  STATE  DISCOVERY_DATE  \\\n",
       "0       2005                 7  40.036944 -121.005833      4       2453403.5   \n",
       "1       2004                 6  38.933056 -120.404444      4       2453137.5   \n",
       "2       2004                 3  38.984167 -120.735556      4       2453156.5   \n",
       "3       2004                 6  38.559167 -119.913333      4       2453184.5   \n",
       "4       2004                 6  38.559167 -119.933056      4       2453184.5   \n",
       "\n",
       "   FIRE_SIZE  MONTH  DAY_OF_WEEK  \n",
       "0       0.10      2            2  \n",
       "1       0.25      5            2  \n",
       "2       0.10      5            0  \n",
       "3       0.10      6            0  \n",
       "4       0.10      6            0  "
      ]
     },
     "execution_count": 177,
     "metadata": {},
     "output_type": "execute_result"
    }
   ],
   "source": [
    "data.head()"
   ]
  },
  {
   "cell_type": "code",
   "execution_count": 178,
   "metadata": {},
   "outputs": [],
   "source": [
    "# to get X and Y values\n",
    "X = data.drop(['STAT_CAUSE_DESCR'], axis=1).values\n",
    "y = data['STAT_CAUSE_DESCR'].values"
   ]
  },
  {
   "cell_type": "code",
   "execution_count": 179,
   "metadata": {},
   "outputs": [],
   "source": [
    "# split the data\n",
    "X_train, X_test, y_train, y_test = train_test_split(X,y,test_size=0.3, random_state=0)"
   ]
  },
  {
   "cell_type": "code",
   "execution_count": 180,
   "metadata": {},
   "outputs": [
    {
     "name": "stdout",
     "output_type": "stream",
     "text": [
      "0.5799801467720779\n"
     ]
    }
   ],
   "source": [
    "rf = ske.RandomForestClassifier(n_estimators=50)\n",
    "rf = rf.fit(X_train, y_train)\n",
    "print(rf.score(X_test,y_test))"
   ]
  },
  {
   "cell_type": "markdown",
   "metadata": {},
   "source": [
    "# Reduce the number of labels"
   ]
  },
  {
   "cell_type": "code",
   "execution_count": 181,
   "metadata": {},
   "outputs": [
    {
     "data": {
      "text/html": [
       "<div>\n",
       "<style scoped>\n",
       "    .dataframe tbody tr th:only-of-type {\n",
       "        vertical-align: middle;\n",
       "    }\n",
       "\n",
       "    .dataframe tbody tr th {\n",
       "        vertical-align: top;\n",
       "    }\n",
       "\n",
       "    .dataframe thead th {\n",
       "        text-align: right;\n",
       "    }\n",
       "</style>\n",
       "<table border=\"1\" class=\"dataframe\">\n",
       "  <thead>\n",
       "    <tr style=\"text-align: right;\">\n",
       "      <th></th>\n",
       "      <th>FIRE_YEAR</th>\n",
       "      <th>LATITUDE</th>\n",
       "      <th>LONGITUDE</th>\n",
       "      <th>STATE</th>\n",
       "      <th>DISCOVERY_DATE</th>\n",
       "      <th>FIRE_SIZE</th>\n",
       "      <th>MONTH</th>\n",
       "      <th>DAY_OF_WEEK</th>\n",
       "      <th>LABEL</th>\n",
       "    </tr>\n",
       "  </thead>\n",
       "  <tbody>\n",
       "    <tr>\n",
       "      <th>0</th>\n",
       "      <td>2005</td>\n",
       "      <td>40.036944</td>\n",
       "      <td>-121.005833</td>\n",
       "      <td>4</td>\n",
       "      <td>2453403.5</td>\n",
       "      <td>0.10</td>\n",
       "      <td>2</td>\n",
       "      <td>2</td>\n",
       "      <td>4</td>\n",
       "    </tr>\n",
       "    <tr>\n",
       "      <th>1</th>\n",
       "      <td>2004</td>\n",
       "      <td>38.933056</td>\n",
       "      <td>-120.404444</td>\n",
       "      <td>4</td>\n",
       "      <td>2453137.5</td>\n",
       "      <td>0.25</td>\n",
       "      <td>5</td>\n",
       "      <td>2</td>\n",
       "      <td>1</td>\n",
       "    </tr>\n",
       "    <tr>\n",
       "      <th>2</th>\n",
       "      <td>2004</td>\n",
       "      <td>38.984167</td>\n",
       "      <td>-120.735556</td>\n",
       "      <td>4</td>\n",
       "      <td>2453156.5</td>\n",
       "      <td>0.10</td>\n",
       "      <td>5</td>\n",
       "      <td>0</td>\n",
       "      <td>2</td>\n",
       "    </tr>\n",
       "    <tr>\n",
       "      <th>3</th>\n",
       "      <td>2004</td>\n",
       "      <td>38.559167</td>\n",
       "      <td>-119.913333</td>\n",
       "      <td>4</td>\n",
       "      <td>2453184.5</td>\n",
       "      <td>0.10</td>\n",
       "      <td>6</td>\n",
       "      <td>0</td>\n",
       "      <td>1</td>\n",
       "    </tr>\n",
       "    <tr>\n",
       "      <th>4</th>\n",
       "      <td>2004</td>\n",
       "      <td>38.559167</td>\n",
       "      <td>-119.933056</td>\n",
       "      <td>4</td>\n",
       "      <td>2453184.5</td>\n",
       "      <td>0.10</td>\n",
       "      <td>6</td>\n",
       "      <td>0</td>\n",
       "      <td>1</td>\n",
       "    </tr>\n",
       "  </tbody>\n",
       "</table>\n",
       "</div>"
      ],
      "text/plain": [
       "   FIRE_YEAR   LATITUDE   LONGITUDE  STATE  DISCOVERY_DATE  FIRE_SIZE  MONTH  \\\n",
       "0       2005  40.036944 -121.005833      4       2453403.5       0.10      2   \n",
       "1       2004  38.933056 -120.404444      4       2453137.5       0.25      5   \n",
       "2       2004  38.984167 -120.735556      4       2453156.5       0.10      5   \n",
       "3       2004  38.559167 -119.913333      4       2453184.5       0.10      6   \n",
       "4       2004  38.559167 -119.933056      4       2453184.5       0.10      6   \n",
       "\n",
       "   DAY_OF_WEEK  LABEL  \n",
       "0            2      4  \n",
       "1            2      1  \n",
       "2            0      2  \n",
       "3            0      1  \n",
       "4            0      1  "
      ]
     },
     "execution_count": 181,
     "metadata": {},
     "output_type": "execute_result"
    }
   ],
   "source": [
    "# function for call-back\n",
    "# to set label for each cause\n",
    "def set_label(cas):\n",
    "    cause = 0\n",
    "    natural = ['Lightning']\n",
    "    accidental = ['Structure','Fireworks','Powerline','Railroad','Smoking','Children','Campfire','Equipment Use','Debris Burning']\n",
    "    malicious = ['Arson']\n",
    "    other = ['Missing/Undefined','Miscellaneous']\n",
    "    if cas in natural:\n",
    "        cause = 1\n",
    "    elif cas in accidental:\n",
    "        cause = 2\n",
    "    elif cas in malicious:\n",
    "        cause = 3\n",
    "    else:\n",
    "        cause = 4\n",
    "    return cause\n",
    "data['LABEL'] = df['STAT_CAUSE_DESCR'].apply(lambda x: set_label(x))\n",
    "data = data.drop('STAT_CAUSE_DESCR',axis=1)\n",
    "data.head()"
   ]
  },
  {
   "cell_type": "code",
   "execution_count": 182,
   "metadata": {},
   "outputs": [
    {
     "name": "stdout",
     "output_type": "stream",
     "text": [
      "0.701338320275109\n"
     ]
    }
   ],
   "source": [
    "# Random-forest for reduced label\n",
    "X = data.drop(['LABEL'], axis=1).values\n",
    "y = data['LABEL'].values\n",
    "X_train, X_test, y_train, y_test = train_test_split(X,y,test_size=0.3, random_state=0)\n",
    "rf = ske.RandomForestClassifier(n_estimators=50)\n",
    "rf = rf.fit(X_train, y_train)\n",
    "print(rf.score(X_test,y_test))"
   ]
  },
  {
   "cell_type": "markdown",
   "metadata": {},
   "source": [
    "# Prediction for single cause"
   ]
  },
  {
   "cell_type": "code",
   "execution_count": 183,
   "metadata": {},
   "outputs": [],
   "source": [
    "df_arson = rf_data.copy()"
   ]
  },
  {
   "cell_type": "code",
   "execution_count": 184,
   "metadata": {},
   "outputs": [
    {
     "data": {
      "text/plain": [
       "array(['Miscellaneous', 'Lightning', 'Debris Burning', 'Campfire',\n",
       "       'Equipment Use', 'Arson', 'Children', 'Railroad', 'Smoking',\n",
       "       'Powerline', 'Structure', 'Fireworks', 'Missing/Undefined'],\n",
       "      dtype=object)"
      ]
     },
     "execution_count": 184,
     "metadata": {},
     "output_type": "execute_result"
    }
   ],
   "source": [
    "rf_data.STAT_CAUSE_DESCR.unique()"
   ]
  },
  {
   "cell_type": "code",
   "execution_count": 185,
   "metadata": {},
   "outputs": [
    {
     "data": {
      "text/html": [
       "<div>\n",
       "<style scoped>\n",
       "    .dataframe tbody tr th:only-of-type {\n",
       "        vertical-align: middle;\n",
       "    }\n",
       "\n",
       "    .dataframe tbody tr th {\n",
       "        vertical-align: top;\n",
       "    }\n",
       "\n",
       "    .dataframe thead th {\n",
       "        text-align: right;\n",
       "    }\n",
       "</style>\n",
       "<table border=\"1\" class=\"dataframe\">\n",
       "  <thead>\n",
       "    <tr style=\"text-align: right;\">\n",
       "      <th></th>\n",
       "      <th>FIRE_YEAR</th>\n",
       "      <th>STAT_CAUSE_DESCR</th>\n",
       "      <th>LATITUDE</th>\n",
       "      <th>LONGITUDE</th>\n",
       "      <th>STATE</th>\n",
       "      <th>DISCOVERY_DATE</th>\n",
       "      <th>FIRE_SIZE</th>\n",
       "      <th>DATE</th>\n",
       "      <th>MONTH</th>\n",
       "      <th>DAY_OF_WEEK</th>\n",
       "    </tr>\n",
       "  </thead>\n",
       "  <tbody>\n",
       "    <tr>\n",
       "      <th>0</th>\n",
       "      <td>2005</td>\n",
       "      <td>Miscellaneous</td>\n",
       "      <td>40.036944</td>\n",
       "      <td>-121.005833</td>\n",
       "      <td>CA</td>\n",
       "      <td>2453403.5</td>\n",
       "      <td>0.10</td>\n",
       "      <td>2005-02-02</td>\n",
       "      <td>2</td>\n",
       "      <td>2</td>\n",
       "    </tr>\n",
       "    <tr>\n",
       "      <th>1</th>\n",
       "      <td>2004</td>\n",
       "      <td>Lightning</td>\n",
       "      <td>38.933056</td>\n",
       "      <td>-120.404444</td>\n",
       "      <td>CA</td>\n",
       "      <td>2453137.5</td>\n",
       "      <td>0.25</td>\n",
       "      <td>2004-05-12</td>\n",
       "      <td>5</td>\n",
       "      <td>2</td>\n",
       "    </tr>\n",
       "    <tr>\n",
       "      <th>2</th>\n",
       "      <td>2004</td>\n",
       "      <td>Debris Burning</td>\n",
       "      <td>38.984167</td>\n",
       "      <td>-120.735556</td>\n",
       "      <td>CA</td>\n",
       "      <td>2453156.5</td>\n",
       "      <td>0.10</td>\n",
       "      <td>2004-05-31</td>\n",
       "      <td>5</td>\n",
       "      <td>0</td>\n",
       "    </tr>\n",
       "    <tr>\n",
       "      <th>3</th>\n",
       "      <td>2004</td>\n",
       "      <td>Lightning</td>\n",
       "      <td>38.559167</td>\n",
       "      <td>-119.913333</td>\n",
       "      <td>CA</td>\n",
       "      <td>2453184.5</td>\n",
       "      <td>0.10</td>\n",
       "      <td>2004-06-28</td>\n",
       "      <td>6</td>\n",
       "      <td>0</td>\n",
       "    </tr>\n",
       "    <tr>\n",
       "      <th>4</th>\n",
       "      <td>2004</td>\n",
       "      <td>Lightning</td>\n",
       "      <td>38.559167</td>\n",
       "      <td>-119.933056</td>\n",
       "      <td>CA</td>\n",
       "      <td>2453184.5</td>\n",
       "      <td>0.10</td>\n",
       "      <td>2004-06-28</td>\n",
       "      <td>6</td>\n",
       "      <td>0</td>\n",
       "    </tr>\n",
       "  </tbody>\n",
       "</table>\n",
       "</div>"
      ],
      "text/plain": [
       "   FIRE_YEAR STAT_CAUSE_DESCR   LATITUDE   LONGITUDE STATE  DISCOVERY_DATE  \\\n",
       "0       2005    Miscellaneous  40.036944 -121.005833    CA       2453403.5   \n",
       "1       2004        Lightning  38.933056 -120.404444    CA       2453137.5   \n",
       "2       2004   Debris Burning  38.984167 -120.735556    CA       2453156.5   \n",
       "3       2004        Lightning  38.559167 -119.913333    CA       2453184.5   \n",
       "4       2004        Lightning  38.559167 -119.933056    CA       2453184.5   \n",
       "\n",
       "   FIRE_SIZE       DATE  MONTH  DAY_OF_WEEK  \n",
       "0       0.10 2005-02-02      2            2  \n",
       "1       0.25 2004-05-12      5            2  \n",
       "2       0.10 2004-05-31      5            0  \n",
       "3       0.10 2004-06-28      6            0  \n",
       "4       0.10 2004-06-28      6            0  "
      ]
     },
     "execution_count": 185,
     "metadata": {},
     "output_type": "execute_result"
    }
   ],
   "source": [
    "df_arson.head()"
   ]
  },
  {
   "cell_type": "code",
   "execution_count": 187,
   "metadata": {},
   "outputs": [
    {
     "name": "stdout",
     "output_type": "stream",
     "text": [
      "0.8849310454851632\n"
     ]
    }
   ],
   "source": [
    "# Arson\n",
    "def set_arson_label(cause):\n",
    "    arson = 0\n",
    "    if cause == 'Arson':\n",
    "        arson = 1\n",
    "    return arson\n",
    "df_arson['ARSON'] = df_arson['STAT_CAUSE_DESCR'].apply(lambda x: set_arson_label(x))\n",
    "df_arson.drop('DATE',axis=1,inplace=True)\n",
    "df_arson.drop('STATE',axis=1,inplace=True)\n",
    "df_arson.drop('STAT_CAUSE_DESCR',axis=1,inplace=True)\n",
    "df_arson.drop('FIRE_SIZE',axis=1,inplace=True)\n",
    "df_arson.dropna(inplace=True)\n",
    "encoder = preprocessing.LabelEncoder()\n",
    "df_arson['DAY_OF_WEEK'] = encoder.fit_transform(df_arson['DAY_OF_WEEK'])\n",
    "X = df_arson.drop(['ARSON'], axis=1).values\n",
    "y = df_arson['ARSON'].values\n",
    "X_train, X_test, y_train, y_test = train_test_split(X,y,test_size=0.3, random_state=0)\n",
    "rf = ske.RandomForestClassifier(n_estimators=200)\n",
    "rf = rf.fit(X_train, y_train)\n",
    "print(rf.score(X_test,y_test))"
   ]
  },
  {
   "cell_type": "code",
   "execution_count": 190,
   "metadata": {},
   "outputs": [
    {
     "name": "stdout",
     "output_type": "stream",
     "text": [
      "0.9477221966178608\n"
     ]
    }
   ],
   "source": [
    "# Lightning\n",
    "df_light = rf_data.copy()\n",
    "def set_label(cause):\n",
    "    label = 0\n",
    "    if cause == 'Lightning':\n",
    "        label = 1\n",
    "    return label\n",
    "df_light['Lightning'] = df_light['STAT_CAUSE_DESCR'].apply(lambda x: set_label(x))\n",
    "df_light.drop('DATE',axis=1,inplace=True)\n",
    "df_light.drop('STATE',axis=1,inplace=True)\n",
    "df_light.drop('STAT_CAUSE_DESCR',axis=1,inplace=True)\n",
    "df_light.drop('FIRE_SIZE',axis=1,inplace=True)\n",
    "df_light.dropna(inplace=True)\n",
    "encoder = preprocessing.LabelEncoder()\n",
    "df_light['DAY_OF_WEEK'] = encoder.fit_transform(df_arson['DAY_OF_WEEK'])\n",
    "X = df_light.drop(['Lightning'], axis=1).values\n",
    "y = df_light['Lightning'].values\n",
    "X_train, X_test, y_train, y_test = train_test_split(X,y,test_size=0.3, random_state=0)\n",
    "rf = ske.RandomForestClassifier(n_estimators=200)\n",
    "rf = rf.fit(X_train, y_train)\n",
    "print(rf.score(X_test,y_test))"
   ]
  },
  {
   "cell_type": "code",
   "execution_count": 191,
   "metadata": {},
   "outputs": [
    {
     "name": "stdout",
     "output_type": "stream",
     "text": [
      "0.856881270606587\n"
     ]
    }
   ],
   "source": [
    "# Miscellaneous\n",
    "df_misc = rf_data.copy()\n",
    "def set_label(cause):\n",
    "    label = 0\n",
    "    if cause == 'Miscellaneous':\n",
    "        label = 1\n",
    "    return label\n",
    "df_misc['Miscellaneous'] = df_misc['STAT_CAUSE_DESCR'].apply(lambda x: set_label(x))\n",
    "df_misc.drop('DATE',axis=1,inplace=True)\n",
    "df_misc.drop('STATE',axis=1,inplace=True)\n",
    "df_misc.drop('STAT_CAUSE_DESCR',axis=1,inplace=True)\n",
    "df_misc.drop('FIRE_SIZE',axis=1,inplace=True)\n",
    "df_misc.dropna(inplace=True)\n",
    "encoder = preprocessing.LabelEncoder()\n",
    "df_misc['DAY_OF_WEEK'] = encoder.fit_transform(df_arson['DAY_OF_WEEK'])\n",
    "X = df_misc.drop(['Miscellaneous'], axis=1).values\n",
    "y = df_misc['Miscellaneous'].values\n",
    "X_train, X_test, y_train, y_test = train_test_split(X,y,test_size=0.3, random_state=0)\n",
    "rf = ske.RandomForestClassifier(n_estimators=200)\n",
    "rf = rf.fit(X_train, y_train)\n",
    "print(rf.score(X_test,y_test))"
   ]
  },
  {
   "cell_type": "code",
   "execution_count": 192,
   "metadata": {},
   "outputs": [
    {
     "name": "stdout",
     "output_type": "stream",
     "text": [
      "0.8089410430035098\n"
     ]
    }
   ],
   "source": [
    "# Debris Burning\n",
    "df_cause = rf_data.copy()\n",
    "def set_label(cause):\n",
    "    label = 0\n",
    "    if cause == 'Debris Burning':\n",
    "        label = 1\n",
    "    return label\n",
    "df_cause['Debris Burning'] = df_cause['STAT_CAUSE_DESCR'].apply(lambda x: set_label(x))\n",
    "df_cause.drop('DATE',axis=1,inplace=True)\n",
    "df_cause.drop('STATE',axis=1,inplace=True)\n",
    "df_cause.drop('STAT_CAUSE_DESCR',axis=1,inplace=True)\n",
    "df_cause.drop('FIRE_SIZE',axis=1,inplace=True)\n",
    "df_cause.dropna(inplace=True)\n",
    "encoder = preprocessing.LabelEncoder()\n",
    "df_cause['DAY_OF_WEEK'] = encoder.fit_transform(df_arson['DAY_OF_WEEK'])\n",
    "X = df_cause.drop(['Debris Burning'], axis=1).values\n",
    "y = df_cause['Debris Burning'].values\n",
    "X_train, X_test, y_train, y_test = train_test_split(X,y,test_size=0.3, random_state=0)\n",
    "rf = ske.RandomForestClassifier(n_estimators=200)\n",
    "rf = rf.fit(X_train, y_train)\n",
    "print(rf.score(X_test,y_test))"
   ]
  },
  {
   "cell_type": "code",
   "execution_count": 193,
   "metadata": {},
   "outputs": [
    {
     "name": "stdout",
     "output_type": "stream",
     "text": [
      "0.9253731343283582\n"
     ]
    }
   ],
   "source": [
    "# Equipment Use\n",
    "df_cause = rf_data.copy()\n",
    "def set_label(cause):\n",
    "    label = 0\n",
    "    if cause == 'Equipment Use':\n",
    "        label = 1\n",
    "    return label\n",
    "df_cause['Equipment Use'] = df_cause['STAT_CAUSE_DESCR'].apply(lambda x: set_label(x))\n",
    "df_cause.drop('DATE',axis=1,inplace=True)\n",
    "df_cause.drop('STATE',axis=1,inplace=True)\n",
    "df_cause.drop('STAT_CAUSE_DESCR',axis=1,inplace=True)\n",
    "df_cause.drop('FIRE_SIZE',axis=1,inplace=True)\n",
    "df_cause.dropna(inplace=True)\n",
    "encoder = preprocessing.LabelEncoder()\n",
    "df_cause['DAY_OF_WEEK'] = encoder.fit_transform(df_arson['DAY_OF_WEEK'])\n",
    "X = df_cause.drop(['Equipment Use'], axis=1).values\n",
    "y = df_cause['Equipment Use'].values\n",
    "X_train, X_test, y_train, y_test = train_test_split(X,y,test_size=0.3, random_state=0)\n",
    "rf = ske.RandomForestClassifier(n_estimators=200)\n",
    "rf = rf.fit(X_train, y_train)\n",
    "print(rf.score(X_test,y_test))"
   ]
  },
  {
   "cell_type": "code",
   "execution_count": 194,
   "metadata": {},
   "outputs": [
    {
     "name": "stdout",
     "output_type": "stream",
     "text": [
      "0.9757790619349807\n"
     ]
    }
   ],
   "source": [
    "# Missing/Undefined\n",
    "df_cause = rf_data.copy()\n",
    "def set_label(cause):\n",
    "    label = 0\n",
    "    if cause == 'Missing/Undefined':\n",
    "        label = 1\n",
    "    return label\n",
    "df_cause['Missing/Undefined'] = df_cause['STAT_CAUSE_DESCR'].apply(lambda x: set_label(x))\n",
    "df_cause.drop('DATE',axis=1,inplace=True)\n",
    "df_cause.drop('STATE',axis=1,inplace=True)\n",
    "df_cause.drop('STAT_CAUSE_DESCR',axis=1,inplace=True)\n",
    "df_cause.drop('FIRE_SIZE',axis=1,inplace=True)\n",
    "df_cause.dropna(inplace=True)\n",
    "encoder = preprocessing.LabelEncoder()\n",
    "df_cause['DAY_OF_WEEK'] = encoder.fit_transform(df_arson['DAY_OF_WEEK'])\n",
    "X = df_cause.drop(['Missing/Undefined'], axis=1).values\n",
    "y = df_cause['Missing/Undefined'].values\n",
    "X_train, X_test, y_train, y_test = train_test_split(X,y,test_size=0.3, random_state=0)\n",
    "rf = ske.RandomForestClassifier(n_estimators=200)\n",
    "rf = rf.fit(X_train, y_train)\n",
    "print(rf.score(X_test,y_test))"
   ]
  },
  {
   "cell_type": "code",
   "execution_count": 195,
   "metadata": {},
   "outputs": [
    {
     "name": "stdout",
     "output_type": "stream",
     "text": [
      "0.9622239160492077\n"
     ]
    }
   ],
   "source": [
    "# Campfire\n",
    "df_cause = rf_data.copy()\n",
    "def set_label(cause):\n",
    "    label = 0\n",
    "    if cause == 'Campfire':\n",
    "        label = 1\n",
    "    return label\n",
    "df_cause['Campfire'] = df_cause['STAT_CAUSE_DESCR'].apply(lambda x: set_label(x))\n",
    "df_cause.drop('DATE',axis=1,inplace=True)\n",
    "df_cause.drop('STATE',axis=1,inplace=True)\n",
    "df_cause.drop('STAT_CAUSE_DESCR',axis=1,inplace=True)\n",
    "df_cause.drop('FIRE_SIZE',axis=1,inplace=True)\n",
    "df_cause.dropna(inplace=True)\n",
    "encoder = preprocessing.LabelEncoder()\n",
    "df_cause['DAY_OF_WEEK'] = encoder.fit_transform(df_arson['DAY_OF_WEEK'])\n",
    "X = df_cause.drop(['Campfire'], axis=1).values\n",
    "y = df_cause['Campfire'].values\n",
    "X_train, X_test, y_train, y_test = train_test_split(X,y,test_size=0.3, random_state=0)\n",
    "rf = ske.RandomForestClassifier(n_estimators=200)\n",
    "rf = rf.fit(X_train, y_train)\n",
    "print(rf.score(X_test,y_test))"
   ]
  },
  {
   "cell_type": "code",
   "execution_count": 196,
   "metadata": {},
   "outputs": [
    {
     "name": "stdout",
     "output_type": "stream",
     "text": [
      "0.9683624632183501\n"
     ]
    }
   ],
   "source": [
    "# Children\n",
    "df_cause = rf_data.copy()\n",
    "def set_label(cause):\n",
    "    label = 0\n",
    "    if cause == 'Children':\n",
    "        label = 1\n",
    "    return label\n",
    "df_cause['Children'] = df_cause['STAT_CAUSE_DESCR'].apply(lambda x: set_label(x))\n",
    "df_cause.drop('DATE',axis=1,inplace=True)\n",
    "df_cause.drop('STATE',axis=1,inplace=True)\n",
    "df_cause.drop('STAT_CAUSE_DESCR',axis=1,inplace=True)\n",
    "df_cause.drop('FIRE_SIZE',axis=1,inplace=True)\n",
    "df_cause.dropna(inplace=True)\n",
    "encoder = preprocessing.LabelEncoder()\n",
    "df_cause['DAY_OF_WEEK'] = encoder.fit_transform(df_arson['DAY_OF_WEEK'])\n",
    "X = df_cause.drop(['Children'], axis=1).values\n",
    "y = df_cause['Children'].values\n",
    "X_train, X_test, y_train, y_test = train_test_split(X,y,test_size=0.3, random_state=0)\n",
    "rf = ske.RandomForestClassifier(n_estimators=200)\n",
    "rf = rf.fit(X_train, y_train)\n",
    "print(rf.score(X_test,y_test))"
   ]
  },
  {
   "cell_type": "code",
   "execution_count": 197,
   "metadata": {},
   "outputs": [
    {
     "name": "stdout",
     "output_type": "stream",
     "text": [
      "0.9714858013968164\n"
     ]
    }
   ],
   "source": [
    "# Smoking\n",
    "df_cause = rf_data.copy()\n",
    "def set_label(cause):\n",
    "    label = 0\n",
    "    if cause == 'Smoking':\n",
    "        label = 1\n",
    "    return label\n",
    "df_cause['Smoking'] = df_cause['STAT_CAUSE_DESCR'].apply(lambda x: set_label(x))\n",
    "df_cause.drop('DATE',axis=1,inplace=True)\n",
    "df_cause.drop('STATE',axis=1,inplace=True)\n",
    "df_cause.drop('STAT_CAUSE_DESCR',axis=1,inplace=True)\n",
    "df_cause.drop('FIRE_SIZE',axis=1,inplace=True)\n",
    "df_cause.dropna(inplace=True)\n",
    "encoder = preprocessing.LabelEncoder()\n",
    "df_cause['DAY_OF_WEEK'] = encoder.fit_transform(df_arson['DAY_OF_WEEK'])\n",
    "X = df_cause.drop(['Smoking'], axis=1).values\n",
    "y = df_cause['Smoking'].values\n",
    "X_train, X_test, y_train, y_test = train_test_split(X,y,test_size=0.3, random_state=0)\n",
    "rf = ske.RandomForestClassifier(n_estimators=200)\n",
    "rf = rf.fit(X_train, y_train)\n",
    "print(rf.score(X_test,y_test))"
   ]
  },
  {
   "cell_type": "code",
   "execution_count": 198,
   "metadata": {},
   "outputs": [
    {
     "name": "stdout",
     "output_type": "stream",
     "text": [
      "0.9854947353493814\n"
     ]
    }
   ],
   "source": [
    "# Railroad\n",
    "df_cause = rf_data.copy()\n",
    "def set_label(cause):\n",
    "    label = 0\n",
    "    if cause == 'Railroad':\n",
    "        label = 1\n",
    "    return label\n",
    "df_cause['Railroad'] = df_cause['STAT_CAUSE_DESCR'].apply(lambda x: set_label(x))\n",
    "df_cause.drop('DATE',axis=1,inplace=True)\n",
    "df_cause.drop('STATE',axis=1,inplace=True)\n",
    "df_cause.drop('STAT_CAUSE_DESCR',axis=1,inplace=True)\n",
    "df_cause.drop('FIRE_SIZE',axis=1,inplace=True)\n",
    "df_cause.dropna(inplace=True)\n",
    "encoder = preprocessing.LabelEncoder()\n",
    "df_cause['DAY_OF_WEEK'] = encoder.fit_transform(df_arson['DAY_OF_WEEK'])\n",
    "X = df_cause.drop(['Railroad'], axis=1).values\n",
    "y = df_cause['Railroad'].values\n",
    "X_train, X_test, y_train, y_test = train_test_split(X,y,test_size=0.3, random_state=0)\n",
    "rf = ske.RandomForestClassifier(n_estimators=200)\n",
    "rf = rf.fit(X_train, y_train)\n",
    "print(rf.score(X_test,y_test))"
   ]
  },
  {
   "cell_type": "code",
   "execution_count": 200,
   "metadata": {},
   "outputs": [
    {
     "name": "stdout",
     "output_type": "stream",
     "text": [
      "0.9953681710213776\n"
     ]
    }
   ],
   "source": [
    "# Fireworks\n",
    "df_cause = rf_data.copy()\n",
    "def set_label(cause):\n",
    "    label = 0\n",
    "    if cause == 'Fireworks':\n",
    "        label = 1\n",
    "    return label\n",
    "df_cause['Fireworks'] = df_cause['STAT_CAUSE_DESCR'].apply(lambda x: set_label(x))\n",
    "df_cause.drop('DATE',axis=1,inplace=True)\n",
    "df_cause.drop('STATE',axis=1,inplace=True)\n",
    "df_cause.drop('STAT_CAUSE_DESCR',axis=1,inplace=True)\n",
    "df_cause.drop('FIRE_SIZE',axis=1,inplace=True)\n",
    "df_cause.dropna(inplace=True)\n",
    "encoder = preprocessing.LabelEncoder()\n",
    "df_cause['DAY_OF_WEEK'] = encoder.fit_transform(df_arson['DAY_OF_WEEK'])\n",
    "X = df_cause.drop(['Fireworks'], axis=1).values\n",
    "y = df_cause['Fireworks'].values\n",
    "X_train, X_test, y_train, y_test = train_test_split(X,y,test_size=0.3, random_state=0)\n",
    "rf = ske.RandomForestClassifier(n_estimators=200)\n",
    "rf = rf.fit(X_train, y_train)\n",
    "print(rf.score(X_test,y_test))"
   ]
  },
  {
   "cell_type": "code",
   "execution_count": 205,
   "metadata": {},
   "outputs": [
    {
     "name": "stdout",
     "output_type": "stream",
     "text": [
      "0.9979349097741695\n"
     ]
    }
   ],
   "source": [
    "# Structure\n",
    "df_cause = rf_data.copy()\n",
    "def set_label(cause):\n",
    "    label = 0\n",
    "    if cause == 'Structure':\n",
    "        label = 1\n",
    "    return label\n",
    "df_cause['Structure'] = df_cause['STAT_CAUSE_DESCR'].apply(lambda x: set_label(x))\n",
    "df_cause.drop('DATE',axis=1,inplace=True)\n",
    "df_cause.drop('STATE',axis=1,inplace=True)\n",
    "df_cause.drop('STAT_CAUSE_DESCR',axis=1,inplace=True)\n",
    "df_cause.drop('FIRE_SIZE',axis=1,inplace=True)\n",
    "df_cause.dropna(inplace=True)\n",
    "encoder = preprocessing.LabelEncoder()\n",
    "df_cause['DAY_OF_WEEK'] = encoder.fit_transform(df_arson['DAY_OF_WEEK'])\n",
    "X = df_cause.drop(['Structure'], axis=1).values\n",
    "y = df_cause['Structure'].values\n",
    "X_train, X_test, y_train, y_test = train_test_split(X,y,test_size=0.3, random_state=0)\n",
    "rf = ske.RandomForestClassifier(n_estimators=200)\n",
    "rf = rf.fit(X_train, y_train)\n",
    "print(rf.score(X_test,y_test))"
   ]
  },
  {
   "cell_type": "code",
   "execution_count": 206,
   "metadata": {},
   "outputs": [],
   "source": [
    "def set_label(cause):\n",
    "    label = 0\n",
    "    if cause == 'Railroad':\n",
    "        label = 1\n",
    "    return label"
   ]
  },
  {
   "cell_type": "code",
   "execution_count": 207,
   "metadata": {},
   "outputs": [],
   "source": [
    "# function for all of them\n",
    "def random_forest(cause):\n",
    "    df_cause = rf_data.copy()\n",
    "    df_cause[cause] = df_cause['STAT_CAUSE_DESCR'].apply(lambda x: set_label(x))\n",
    "    df_cause.drop('DATE',axis=1,inplace=True)\n",
    "    df_cause.drop('STATE',axis=1,inplace=True)\n",
    "    df_cause.drop('STAT_CAUSE_DESCR',axis=1,inplace=True)\n",
    "    df_cause.drop('FIRE_SIZE',axis=1,inplace=True)\n",
    "    df_cause.dropna(inplace=True)\n",
    "    encoder = preprocessing.LabelEncoder()\n",
    "    df_cause['DAY_OF_WEEK'] = encoder.fit_transform(df_arson['DAY_OF_WEEK'])\n",
    "    X = df_cause.drop([cause], axis=1).values\n",
    "    y = df_cause[cause].values\n",
    "    X_train, X_test, y_train, y_test = train_test_split(X,y,test_size=0.3, random_state=0)\n",
    "    rf = ske.RandomForestClassifier(n_estimators=200)\n",
    "    rf = rf.fit(X_train, y_train)\n",
    "    print(rf.score(X_test,y_test))"
   ]
  },
  {
   "cell_type": "code",
   "execution_count": null,
   "metadata": {},
   "outputs": [],
   "source": []
  }
 ],
 "metadata": {
  "kernelspec": {
   "display_name": "Python 3",
   "language": "python",
   "name": "python3"
  },
  "language_info": {
   "codemirror_mode": {
    "name": "ipython",
    "version": 3
   },
   "file_extension": ".py",
   "mimetype": "text/x-python",
   "name": "python",
   "nbconvert_exporter": "python",
   "pygments_lexer": "ipython3",
   "version": "3.8.5"
  }
 },
 "nbformat": 4,
 "nbformat_minor": 4
}
