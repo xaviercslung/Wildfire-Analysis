{
 "cells": [
  {
   "cell_type": "code",
   "execution_count": 1,
   "metadata": {},
   "outputs": [],
   "source": [
    "import pandas as pd\n",
    "import numpy as np\n",
    "import statsmodels.formula.api as smf\n",
    "import statsmodels.api as sm\n",
    "from sklearn import linear_model\n",
    "import matplotlib.pylab as plt\n",
    "import math\n",
    "import seaborn as sbn\n",
    "%matplotlib inline\n",
    "from sklearn.metrics import accuracy_score\n",
    "from sklearn.model_selection import train_test_split\n",
    "from sklearn.tree import DecisionTreeClassifier "
   ]
  },
  {
   "cell_type": "code",
   "execution_count": 4,
   "metadata": {},
   "outputs": [
    {
     "data": {
      "text/plain": [
       "(1880465, 10)"
      ]
     },
     "execution_count": 4,
     "metadata": {},
     "output_type": "execute_result"
    }
   ],
   "source": [
    "data = pd.read_csv(r'd:\\Users\\Fuuuuuuuuuun\\Desktop\\Files\\nyu class\\Principals of Urban Informatics\\wildfre_cleaned.csv')\n",
    "data.shape"
   ]
  },
  {
   "cell_type": "code",
   "execution_count": 5,
   "metadata": {},
   "outputs": [
    {
     "data": {
      "text/plain": [
       "(1202317, 10)"
      ]
     },
     "execution_count": 5,
     "metadata": {},
     "output_type": "execute_result"
    }
   ],
   "source": [
    "data.dropna(inplace = True) \n",
    "data.shape"
   ]
  },
  {
   "cell_type": "code",
   "execution_count": 11,
   "metadata": {},
   "outputs": [
    {
     "data": {
      "text/html": [
       "<div>\n",
       "<style scoped>\n",
       "    .dataframe tbody tr th:only-of-type {\n",
       "        vertical-align: middle;\n",
       "    }\n",
       "\n",
       "    .dataframe tbody tr th {\n",
       "        vertical-align: top;\n",
       "    }\n",
       "\n",
       "    .dataframe thead th {\n",
       "        text-align: right;\n",
       "    }\n",
       "</style>\n",
       "<table border=\"1\" class=\"dataframe\">\n",
       "  <thead>\n",
       "    <tr style=\"text-align: right;\">\n",
       "      <th></th>\n",
       "      <th>year</th>\n",
       "      <th>latitude</th>\n",
       "      <th>longitude</th>\n",
       "      <th>fire_size</th>\n",
       "      <th>month</th>\n",
       "      <th>day</th>\n",
       "    </tr>\n",
       "  </thead>\n",
       "  <tbody>\n",
       "    <tr>\n",
       "      <th>count</th>\n",
       "      <td>1.202317e+06</td>\n",
       "      <td>1.202317e+06</td>\n",
       "      <td>1.202317e+06</td>\n",
       "      <td>1.202317e+06</td>\n",
       "      <td>1.202317e+06</td>\n",
       "      <td>1.202317e+06</td>\n",
       "    </tr>\n",
       "    <tr>\n",
       "      <th>mean</th>\n",
       "      <td>2.005323e+03</td>\n",
       "      <td>3.641300e+01</td>\n",
       "      <td>-9.268203e+01</td>\n",
       "      <td>5.958460e+01</td>\n",
       "      <td>5.785268e+00</td>\n",
       "      <td>1.549126e+01</td>\n",
       "    </tr>\n",
       "    <tr>\n",
       "      <th>std</th>\n",
       "      <td>6.614889e+00</td>\n",
       "      <td>5.580167e+00</td>\n",
       "      <td>1.541989e+01</td>\n",
       "      <td>1.993968e+03</td>\n",
       "      <td>3.018884e+00</td>\n",
       "      <td>8.746799e+00</td>\n",
       "    </tr>\n",
       "    <tr>\n",
       "      <th>min</th>\n",
       "      <td>1.992000e+03</td>\n",
       "      <td>1.794492e+01</td>\n",
       "      <td>-1.644497e+02</td>\n",
       "      <td>1.000000e-05</td>\n",
       "      <td>1.000000e+00</td>\n",
       "      <td>1.000000e+00</td>\n",
       "    </tr>\n",
       "    <tr>\n",
       "      <th>25%</th>\n",
       "      <td>2.000000e+03</td>\n",
       "      <td>3.231670e+01</td>\n",
       "      <td>-9.888993e+01</td>\n",
       "      <td>1.000000e-01</td>\n",
       "      <td>3.000000e+00</td>\n",
       "      <td>8.000000e+00</td>\n",
       "    </tr>\n",
       "    <tr>\n",
       "      <th>50%</th>\n",
       "      <td>2.006000e+03</td>\n",
       "      <td>3.491735e+01</td>\n",
       "      <td>-8.837511e+01</td>\n",
       "      <td>1.000000e+00</td>\n",
       "      <td>5.000000e+00</td>\n",
       "      <td>1.500000e+01</td>\n",
       "    </tr>\n",
       "    <tr>\n",
       "      <th>75%</th>\n",
       "      <td>2.011000e+03</td>\n",
       "      <td>4.076227e+01</td>\n",
       "      <td>-8.183190e+01</td>\n",
       "      <td>3.900000e+00</td>\n",
       "      <td>8.000000e+00</td>\n",
       "      <td>2.300000e+01</td>\n",
       "    </tr>\n",
       "    <tr>\n",
       "      <th>max</th>\n",
       "      <td>2.015000e+03</td>\n",
       "      <td>6.728330e+01</td>\n",
       "      <td>-6.528807e+01</td>\n",
       "      <td>5.581983e+05</td>\n",
       "      <td>1.200000e+01</td>\n",
       "      <td>3.100000e+01</td>\n",
       "    </tr>\n",
       "  </tbody>\n",
       "</table>\n",
       "</div>"
      ],
      "text/plain": [
       "               year      latitude     longitude     fire_size         month  \\\n",
       "count  1.202317e+06  1.202317e+06  1.202317e+06  1.202317e+06  1.202317e+06   \n",
       "mean   2.005323e+03  3.641300e+01 -9.268203e+01  5.958460e+01  5.785268e+00   \n",
       "std    6.614889e+00  5.580167e+00  1.541989e+01  1.993968e+03  3.018884e+00   \n",
       "min    1.992000e+03  1.794492e+01 -1.644497e+02  1.000000e-05  1.000000e+00   \n",
       "25%    2.000000e+03  3.231670e+01 -9.888993e+01  1.000000e-01  3.000000e+00   \n",
       "50%    2.006000e+03  3.491735e+01 -8.837511e+01  1.000000e+00  5.000000e+00   \n",
       "75%    2.011000e+03  4.076227e+01 -8.183190e+01  3.900000e+00  8.000000e+00   \n",
       "max    2.015000e+03  6.728330e+01 -6.528807e+01  5.581983e+05  1.200000e+01   \n",
       "\n",
       "                day  \n",
       "count  1.202317e+06  \n",
       "mean   1.549126e+01  \n",
       "std    8.746799e+00  \n",
       "min    1.000000e+00  \n",
       "25%    8.000000e+00  \n",
       "50%    1.500000e+01  \n",
       "75%    2.300000e+01  \n",
       "max    3.100000e+01  "
      ]
     },
     "execution_count": 11,
     "metadata": {},
     "output_type": "execute_result"
    }
   ],
   "source": [
    "data.describe()"
   ]
  },
  {
   "cell_type": "code",
   "execution_count": 19,
   "metadata": {},
   "outputs": [
    {
     "data": {
      "image/png": "[encoded data removed]",
      "text/plain": [
       "<Figure size 432x288 with 1 Axes>"
      ]
     },
     "metadata": {
      "needs_background": "light"
     },
     "output_type": "display_data"
    }
   ],
   "source": [
    "def plot_loghist(x, bins): #introduce a function for plotting a log-scale histogram\n",
    "  #it ensures log-scale binning and label on the original scale\n",
    "    logbins = np.logspace(np.log10(x.min()),np.log10(x.max()),bins)\n",
    "    plt.hist(x, bins=logbins)\n",
    "    plt.xscale('log')\n",
    "    \n",
    "plot_loghist(data['fire_size'], 100)"
   ]
  },
  {
   "cell_type": "code",
   "execution_count": 22,
   "metadata": {},
   "outputs": [
    {
     "data": {
      "text/plain": [
       "(1152876, 10)"
      ]
     },
     "execution_count": 22,
     "metadata": {},
     "output_type": "execute_result"
    }
   ],
   "source": [
    "data = data.loc[(data['fire_size']>0.05)&(data['fire_size']<5000)]\n",
    "data.shape"
   ]
  },
  {
   "cell_type": "code",
   "execution_count": 29,
   "metadata": {},
   "outputs": [
    {
     "data": {
      "text/plain": [
       "array(['Miscellaneous', 'Lightning', 'Debris Burning', 'Campfire',\n",
       "       'Equipment Use', 'Arson', 'Railroad', 'Children', 'Smoking',\n",
       "       'Missing/Undefined', 'Structure', 'Fireworks', 'Powerline'],\n",
       "      dtype=object)"
      ]
     },
     "execution_count": 29,
     "metadata": {},
     "output_type": "execute_result"
    }
   ],
   "source": [
    "data.cause.unique()"
   ]
  },
  {
   "cell_type": "code",
   "execution_count": 31,
   "metadata": {},
   "outputs": [
    {
     "data": {
      "text/html": [
       "<div>\n",
       "<style scoped>\n",
       "    .dataframe tbody tr th:only-of-type {\n",
       "        vertical-align: middle;\n",
       "    }\n",
       "\n",
       "    .dataframe tbody tr th {\n",
       "        vertical-align: top;\n",
       "    }\n",
       "\n",
       "    .dataframe thead th {\n",
       "        text-align: right;\n",
       "    }\n",
       "</style>\n",
       "<table border=\"1\" class=\"dataframe\">\n",
       "  <thead>\n",
       "    <tr style=\"text-align: right;\">\n",
       "      <th></th>\n",
       "      <th>year</th>\n",
       "      <th>cause</th>\n",
       "      <th>latitude</th>\n",
       "      <th>longitude</th>\n",
       "      <th>state</th>\n",
       "      <th>discovery_date</th>\n",
       "      <th>fire_size</th>\n",
       "      <th>county</th>\n",
       "      <th>month</th>\n",
       "      <th>day</th>\n",
       "      <th>label</th>\n",
       "    </tr>\n",
       "  </thead>\n",
       "  <tbody>\n",
       "    <tr>\n",
       "      <th>0</th>\n",
       "      <td>2005</td>\n",
       "      <td>Miscellaneous</td>\n",
       "      <td>40.036944</td>\n",
       "      <td>-121.005833</td>\n",
       "      <td>CA</td>\n",
       "      <td>2005-02-02</td>\n",
       "      <td>0.10</td>\n",
       "      <td>Plumas</td>\n",
       "      <td>2</td>\n",
       "      <td>2</td>\n",
       "      <td>7</td>\n",
       "    </tr>\n",
       "    <tr>\n",
       "      <th>1</th>\n",
       "      <td>2004</td>\n",
       "      <td>Lightning</td>\n",
       "      <td>38.933056</td>\n",
       "      <td>-120.404444</td>\n",
       "      <td>CA</td>\n",
       "      <td>2004-05-12</td>\n",
       "      <td>0.25</td>\n",
       "      <td>Placer</td>\n",
       "      <td>5</td>\n",
       "      <td>12</td>\n",
       "      <td>6</td>\n",
       "    </tr>\n",
       "    <tr>\n",
       "      <th>2</th>\n",
       "      <td>2004</td>\n",
       "      <td>Debris Burning</td>\n",
       "      <td>38.984167</td>\n",
       "      <td>-120.735556</td>\n",
       "      <td>CA</td>\n",
       "      <td>2004-05-31</td>\n",
       "      <td>0.10</td>\n",
       "      <td>El Dorado</td>\n",
       "      <td>5</td>\n",
       "      <td>31</td>\n",
       "      <td>3</td>\n",
       "    </tr>\n",
       "    <tr>\n",
       "      <th>3</th>\n",
       "      <td>2004</td>\n",
       "      <td>Lightning</td>\n",
       "      <td>38.559167</td>\n",
       "      <td>-119.913333</td>\n",
       "      <td>CA</td>\n",
       "      <td>2004-06-28</td>\n",
       "      <td>0.10</td>\n",
       "      <td>Alpine</td>\n",
       "      <td>6</td>\n",
       "      <td>28</td>\n",
       "      <td>6</td>\n",
       "    </tr>\n",
       "    <tr>\n",
       "      <th>4</th>\n",
       "      <td>2004</td>\n",
       "      <td>Lightning</td>\n",
       "      <td>38.559167</td>\n",
       "      <td>-119.933056</td>\n",
       "      <td>CA</td>\n",
       "      <td>2004-06-28</td>\n",
       "      <td>0.10</td>\n",
       "      <td>Alpine</td>\n",
       "      <td>6</td>\n",
       "      <td>28</td>\n",
       "      <td>6</td>\n",
       "    </tr>\n",
       "  </tbody>\n",
       "</table>\n",
       "</div>"
      ],
      "text/plain": [
       "   year           cause   latitude   longitude state discovery_date  \\\n",
       "0  2005   Miscellaneous  40.036944 -121.005833    CA     2005-02-02   \n",
       "1  2004       Lightning  38.933056 -120.404444    CA     2004-05-12   \n",
       "2  2004  Debris Burning  38.984167 -120.735556    CA     2004-05-31   \n",
       "3  2004       Lightning  38.559167 -119.913333    CA     2004-06-28   \n",
       "4  2004       Lightning  38.559167 -119.933056    CA     2004-06-28   \n",
       "\n",
       "   fire_size     county  month  day  label  \n",
       "0       0.10     Plumas      2    2      7  \n",
       "1       0.25     Placer      5   12      6  \n",
       "2       0.10  El Dorado      5   31      3  \n",
       "3       0.10     Alpine      6   28      6  \n",
       "4       0.10     Alpine      6   28      6  "
      ]
     },
     "execution_count": 31,
     "metadata": {},
     "output_type": "execute_result"
    }
   ],
   "source": [
    " from sklearn.preprocessing import LabelEncoder\n",
    "le = LabelEncoder()\n",
    "le.fit(['Miscellaneous', 'Lightning', 'Debris Burning', 'Campfire','Equipment Use', 'Arson', 'Railroad', 'Children', 'Smoking',\\\n",
    "             'Missing/Undefined', 'Structure', 'Fireworks', 'Powerline'])\n",
    "data['label']=le.transform(data['cause'])\n",
    "data.head()"
   ]
  },
  {
   "cell_type": "code",
   "execution_count": 38,
   "metadata": {},
   "outputs": [
    {
     "name": "stdout",
     "output_type": "stream",
     "text": [
      "(807013, 5) (345863, 5) (807013, 1) (345863, 1)\n"
     ]
    }
   ],
   "source": [
    "feature = data[['latitude','longitude','fire_size','month','year']]\n",
    "feature=feature.values\n",
    "target = data[['label']]\n",
    "target=target.values\n",
    "X_train, X_test, y_train, y_test = train_test_split(feature, target, train_size=0.7) \n",
    "print(X_train.shape, X_test.shape, y_train.shape, y_test.shape)"
   ]
  },
  {
   "cell_type": "code",
   "execution_count": 39,
   "metadata": {},
   "outputs": [
    {
     "data": {
      "text/plain": [
       "DecisionTreeClassifier()"
      ]
     },
     "execution_count": 39,
     "metadata": {},
     "output_type": "execute_result"
    }
   ],
   "source": [
    "dt_model = DecisionTreeClassifier() \n",
    "dt_model.fit(X_train,y_train) "
   ]
  },
  {
   "cell_type": "code",
   "execution_count": 41,
   "metadata": {},
   "outputs": [
    {
     "name": "stdout",
     "output_type": "stream",
     "text": [
      "accuracy_score: \n",
      " The prediction accuracy on the test set is： 0.495889991123653\n"
     ]
    }
   ],
   "source": [
    "test_predict_result = dt_model.predict(X_test) #对dt_model使用.predict方法，预测产生预测结果（在测试集中的预测结果）\n",
    "\n",
    "test_true_result =y_test\n",
    "#使用sklearn.metrics模块中的accuracy_score方法计算模型预测准确度\n",
    "as_test = accuracy_score(test_true_result,test_predict_result) #传入测试集中的真实结果（标签）和模型在测试集上的预测结果（标签）\n",
    "print(\"accuracy_score: \\n The prediction accuracy on the test set is：\", as_test)"
   ]
  }
 ],
 "metadata": {
  "kernelspec": {
   "display_name": "Python 3",
   "language": "python",
   "name": "python3"
  },
  "language_info": {
   "codemirror_mode": {
    "name": "ipython",
    "version": 3
   },
   "file_extension": ".py",
   "mimetype": "text/x-python",
   "name": "python",
   "nbconvert_exporter": "python",
   "pygments_lexer": "ipython3",
   "version": "3.7.9"
  }
 },
 "nbformat": 4,
 "nbformat_minor": 4
}
