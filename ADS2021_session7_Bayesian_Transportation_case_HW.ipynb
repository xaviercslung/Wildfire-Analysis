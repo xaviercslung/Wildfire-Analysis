{
  "nbformat": 4,
  "nbformat_minor": 0,
  "metadata": {
    "colab": {
      "name": "ADS2021_session7_Bayesian_Transportation_case_HW.ipynb",
      "provenance": [],
      "collapsed_sections": [],
      "include_colab_link": true
    },
    "kernelspec": {
      "display_name": "Python 3",
      "language": "python",
      "name": "python3"
    },
    "language_info": {
      "codemirror_mode": {
        "name": "ipython",
        "version": 3
      },
      "file_extension": ".py",
      "mimetype": "text/x-python",
      "name": "python",
      "nbconvert_exporter": "python",
      "pygments_lexer": "ipython3",
      "version": "3.7.6"
    }
  },
  "cells": [
    {
      "cell_type": "markdown",
      "metadata": {
        "id": "view-in-github",
        "colab_type": "text"
      },
      "source": [
        "<a href=\"https://colab.research.google.com/github/xaviercslung/wildfire_analysis/blob/Yuanzhe-Luo/ADS2021_session7_Bayesian_Transportation_case_HW.ipynb\" target=\"_parent\"><img src=\"https://colab.research.google.com/assets/colab-badge.svg\" alt=\"Open In Colab\"/></a>"
      ]
    },
    {
      "cell_type": "markdown",
      "metadata": {
        "id": "QdU1oyxgOP-h"
      },
      "source": [
        "## Transporation mode choice modeling\n",
        "\n",
        "Transportation planning and assessments are important aspects of modeling urban systems and are critical in making key decisions and shaping/estimating the commute behavior of urban populace. Some of the key impact assessments from the model could be evaluating change in net commute time savings, change in pollution emissions, traffic volumes etc. across an urban area of interest.\n",
        "\n",
        "Here we demonstrate a framework for transporation mode choice modeling using Bayesian inference. Essentially, we want to model ridership by mode across multiple modes by estimating mode choice between origin-destination taxi zone pairs in New York City among 4 available mode choices - transit, taxi, walking and driving. \n",
        "\n",
        "We shall use the model to assess the projected impact of transportation interventions, e.g. imposing a $3 congestion surcharge on the taxies accross NYC (similar to the Manhattan Congestion Surcharge actually implemented but now accross the entire city).\n",
        "\n",
        "This case comes from our project with NYU C2SMART supported by US DOT on assessing the impact of ride-sharing in NYC. You may find a complete presentation here: https://www.youtube.com/watch?v=5L5r5nvsudI\n",
        "and a publication on https://arxiv.org/abs/2010.06588"
      ]
    },
    {
      "cell_type": "code",
      "metadata": {
        "colab": {
          "base_uri": "https://localhost:8080/"
        },
        "id": "0OV3_FRIORXK",
        "outputId": "09c79f91-bdc2-44cc-edc7-ffcfe6cfde34"
      },
      "source": [
        "!pip install arviz==0.6.1\n",
        "!pip install pymc3==3.5\n",
        "!pip install Theano==1.0.4"
      ],
      "execution_count": null,
      "outputs": [
        {
          "output_type": "stream",
          "text": [
            "Collecting arviz==0.6.1\n",
            "\u001b[?25l  Downloading https://files.pythonhosted.org/packages/ec/8b/83472d660e004a69b8e7b3c1dd12a607167774097138445d0dda1a3590dc/arviz-0.6.1-py3-none-any.whl (1.4MB)\n",
            "\u001b[K     |████████████████████████████████| 1.4MB 5.5MB/s \n",
            "\u001b[?25hRequirement already satisfied: xarray>=0.11 in /usr/local/lib/python3.7/dist-packages (from arviz==0.6.1) (0.15.1)\n",
            "Requirement already satisfied: pandas>=0.23 in /usr/local/lib/python3.7/dist-packages (from arviz==0.6.1) (1.1.5)\n",
            "Requirement already satisfied: scipy>=0.19 in /usr/local/lib/python3.7/dist-packages (from arviz==0.6.1) (1.4.1)\n",
            "Collecting netcdf4\n",
            "\u001b[?25l  Downloading https://files.pythonhosted.org/packages/37/56/f65978898fb8e7e5df9c67531d86eb24eb04938deae3b61dbcce12c98212/netCDF4-1.5.6-cp37-cp37m-manylinux2014_x86_64.whl (4.7MB)\n",
            "\u001b[K     |████████████████████████████████| 4.7MB 31.7MB/s \n",
            "\u001b[?25hRequirement already satisfied: matplotlib>=3.0 in /usr/local/lib/python3.7/dist-packages (from arviz==0.6.1) (3.2.2)\n",
            "Requirement already satisfied: numpy>=1.12 in /usr/local/lib/python3.7/dist-packages (from arviz==0.6.1) (1.19.5)\n",
            "Requirement already satisfied: packaging in /usr/local/lib/python3.7/dist-packages (from arviz==0.6.1) (20.9)\n",
            "Requirement already satisfied: setuptools>=41.2 in /usr/local/lib/python3.7/dist-packages (from xarray>=0.11->arviz==0.6.1) (54.2.0)\n",
            "Requirement already satisfied: pytz>=2017.2 in /usr/local/lib/python3.7/dist-packages (from pandas>=0.23->arviz==0.6.1) (2018.9)\n",
            "Requirement already satisfied: python-dateutil>=2.7.3 in /usr/local/lib/python3.7/dist-packages (from pandas>=0.23->arviz==0.6.1) (2.8.1)\n",
            "Collecting cftime\n",
            "\u001b[?25l  Downloading https://files.pythonhosted.org/packages/41/e0/3e120cca16571c5ee3b35f1ed432c2aae5dc91e2b789e8b9c3a70e721ea0/cftime-1.4.1-cp37-cp37m-manylinux2014_x86_64.whl (313kB)\n",
            "\u001b[K     |████████████████████████████████| 317kB 40.3MB/s \n",
            "\u001b[?25hRequirement already satisfied: pyparsing!=2.0.4,!=2.1.2,!=2.1.6,>=2.0.1 in /usr/local/lib/python3.7/dist-packages (from matplotlib>=3.0->arviz==0.6.1) (2.4.7)\n",
            "Requirement already satisfied: cycler>=0.10 in /usr/local/lib/python3.7/dist-packages (from matplotlib>=3.0->arviz==0.6.1) (0.10.0)\n",
            "Requirement already satisfied: kiwisolver>=1.0.1 in /usr/local/lib/python3.7/dist-packages (from matplotlib>=3.0->arviz==0.6.1) (1.3.1)\n",
            "Requirement already satisfied: six>=1.5 in /usr/local/lib/python3.7/dist-packages (from python-dateutil>=2.7.3->pandas>=0.23->arviz==0.6.1) (1.15.0)\n",
            "Installing collected packages: cftime, netcdf4, arviz\n",
            "Successfully installed arviz-0.6.1 cftime-1.4.1 netcdf4-1.5.6\n",
            "Collecting pymc3==3.5\n",
            "\u001b[?25l  Downloading https://files.pythonhosted.org/packages/69/a9/f70526eacd82ff917c00dd2d979f6e240ad8b31ff18f11205e04f6c8074c/pymc3-3.5-py3-none-any.whl (1.3MB)\n",
            "\u001b[K     |████████████████████████████████| 1.3MB 4.2MB/s \n",
            "\u001b[?25hRequirement already satisfied: patsy>=0.4.0 in /usr/local/lib/python3.7/dist-packages (from pymc3==3.5) (0.5.1)\n",
            "Requirement already satisfied: joblib>=0.9 in /usr/local/lib/python3.7/dist-packages (from pymc3==3.5) (1.0.1)\n",
            "Requirement already satisfied: six>=1.10.0 in /usr/local/lib/python3.7/dist-packages (from pymc3==3.5) (1.15.0)\n",
            "Requirement already satisfied: theano>=1.0.0 in /usr/local/lib/python3.7/dist-packages (from pymc3==3.5) (1.0.5)\n",
            "Requirement already satisfied: h5py>=2.7.0 in /usr/local/lib/python3.7/dist-packages (from pymc3==3.5) (2.10.0)\n",
            "Requirement already satisfied: tqdm>=4.8.4 in /usr/local/lib/python3.7/dist-packages (from pymc3==3.5) (4.41.1)\n",
            "Requirement already satisfied: numpy>=1.13.0 in /usr/local/lib/python3.7/dist-packages (from pymc3==3.5) (1.19.5)\n",
            "Requirement already satisfied: pandas>=0.18.0 in /usr/local/lib/python3.7/dist-packages (from pymc3==3.5) (1.1.5)\n",
            "Requirement already satisfied: scipy>=0.14 in /usr/local/lib/python3.7/dist-packages (from theano>=1.0.0->pymc3==3.5) (1.4.1)\n",
            "Requirement already satisfied: pytz>=2017.2 in /usr/local/lib/python3.7/dist-packages (from pandas>=0.18.0->pymc3==3.5) (2018.9)\n",
            "Requirement already satisfied: python-dateutil>=2.7.3 in /usr/local/lib/python3.7/dist-packages (from pandas>=0.18.0->pymc3==3.5) (2.8.1)\n",
            "Installing collected packages: pymc3\n",
            "  Found existing installation: pymc3 3.7\n",
            "    Uninstalling pymc3-3.7:\n",
            "      Successfully uninstalled pymc3-3.7\n",
            "Successfully installed pymc3-3.5\n",
            "Collecting Theano==1.0.4\n",
            "\u001b[?25l  Downloading https://files.pythonhosted.org/packages/7d/c4/6341148ad458b6cd8361b774d7ee6895c38eab88f05331f22304c484ed5d/Theano-1.0.4.tar.gz (2.8MB)\n",
            "\u001b[K     |████████████████████████████████| 2.8MB 5.8MB/s \n",
            "\u001b[?25hRequirement already satisfied: numpy>=1.9.1 in /usr/local/lib/python3.7/dist-packages (from Theano==1.0.4) (1.19.5)\n",
            "Requirement already satisfied: scipy>=0.14 in /usr/local/lib/python3.7/dist-packages (from Theano==1.0.4) (1.4.1)\n",
            "Requirement already satisfied: six>=1.9.0 in /usr/local/lib/python3.7/dist-packages (from Theano==1.0.4) (1.15.0)\n",
            "Building wheels for collected packages: Theano\n",
            "  Building wheel for Theano (setup.py) ... \u001b[?25l\u001b[?25hdone\n",
            "  Created wheel for Theano: filename=Theano-1.0.4-cp37-none-any.whl size=2667178 sha256=62c22061247d6155b4632d5c8ed04a8017d7b9970132bc7bbcf67062a29af07b\n",
            "  Stored in directory: /root/.cache/pip/wheels/88/fb/be/483910ff7e9f703f30a10605ad7605f3316493875c86637014\n",
            "Successfully built Theano\n",
            "Installing collected packages: Theano\n",
            "  Found existing installation: Theano 1.0.5\n",
            "    Uninstalling Theano-1.0.5:\n",
            "      Successfully uninstalled Theano-1.0.5\n",
            "Successfully installed Theano-1.0.4\n"
          ],
          "name": "stdout"
        }
      ]
    },
    {
      "cell_type": "code",
      "metadata": {
        "id": "qraS57-mOP-j"
      },
      "source": [
        "import pandas as pd\n",
        "import numpy as np\n",
        "from numpy import inf\n",
        "import seaborn as sns\n",
        "from scipy.stats import norm\n",
        "import itertools\n",
        "import theano\n",
        "from theano import tensor as tt\n",
        "import pymc3 as pm\n",
        "import arviz\n",
        "from matplotlib import pyplot as plt\n",
        "%matplotlib inline"
      ],
      "execution_count": null,
      "outputs": []
    },
    {
      "cell_type": "markdown",
      "metadata": {
        "id": "DP8qC8UXOP-m"
      },
      "source": [
        "We use data from primarily two sources: \n",
        "- the travel duration and fare cost for taxi, transit and driving modes are extracted from Google Maps API for each of the origin-destination taxi zone pairs. Cost for walking is kept as 0.\n",
        "- the mobility information and aggregated income information is retrieved from LEHD data along with ACS for origin-destination commute choice information, further aggregated on taxi zone levels.\n",
        "\n",
        "\n",
        "The combined data thus contains travel time, travel cost and aggregated commuter information corresponding to each of O-D pairs and 4 travel modes.\n",
        "\n",
        "The travel modes (column 'tmode') contains codes for each mode referenced as- 2: transit, 3: taxi, 5: walking, 8: driving\n"
      ]
    },
    {
      "cell_type": "code",
      "metadata": {
        "colab": {
          "base_uri": "https://localhost:8080/",
          "height": 202
        },
        "id": "6GLZ2ATNOP-m",
        "outputId": "0b5acb63-e7b3-4e0b-cf04-8442046e9fac"
      },
      "source": [
        "# read the data\n",
        "\n",
        "data = pd.read_csv('https://raw.githubusercontent.com/CUSP2021ADS/Data/main/LEHD_commute.csv')\n",
        "data['duration'] = data['duration']/60  # convert time to hours\n",
        "data['ridership'] = data.iloc[:, 5:].sum(axis=1)  ## aggregate the ridership across income groups\n",
        "data = data[['pulocationid', 'dolocationid', 'tmode', 'duration', 'price', 'ridership']]\n",
        "data.head()"
      ],
      "execution_count": null,
      "outputs": [
        {
          "output_type": "execute_result",
          "data": {
            "text/html": [
              "<div>\n",
              "<style scoped>\n",
              "    .dataframe tbody tr th:only-of-type {\n",
              "        vertical-align: middle;\n",
              "    }\n",
              "\n",
              "    .dataframe tbody tr th {\n",
              "        vertical-align: top;\n",
              "    }\n",
              "\n",
              "    .dataframe thead th {\n",
              "        text-align: right;\n",
              "    }\n",
              "</style>\n",
              "<table border=\"1\" class=\"dataframe\">\n",
              "  <thead>\n",
              "    <tr style=\"text-align: right;\">\n",
              "      <th></th>\n",
              "      <th>pulocationid</th>\n",
              "      <th>dolocationid</th>\n",
              "      <th>tmode</th>\n",
              "      <th>duration</th>\n",
              "      <th>price</th>\n",
              "      <th>ridership</th>\n",
              "    </tr>\n",
              "  </thead>\n",
              "  <tbody>\n",
              "    <tr>\n",
              "      <th>0</th>\n",
              "      <td>3</td>\n",
              "      <td>7</td>\n",
              "      <td>8</td>\n",
              "      <td>0.653356</td>\n",
              "      <td>12.721600</td>\n",
              "      <td>736</td>\n",
              "    </tr>\n",
              "    <tr>\n",
              "      <th>1</th>\n",
              "      <td>3</td>\n",
              "      <td>7</td>\n",
              "      <td>3</td>\n",
              "      <td>0.798016</td>\n",
              "      <td>43.157143</td>\n",
              "      <td>0</td>\n",
              "    </tr>\n",
              "    <tr>\n",
              "      <th>2</th>\n",
              "      <td>3</td>\n",
              "      <td>18</td>\n",
              "      <td>3</td>\n",
              "      <td>0.254000</td>\n",
              "      <td>12.900000</td>\n",
              "      <td>1748</td>\n",
              "    </tr>\n",
              "    <tr>\n",
              "      <th>3</th>\n",
              "      <td>3</td>\n",
              "      <td>18</td>\n",
              "      <td>5</td>\n",
              "      <td>1.084444</td>\n",
              "      <td>0.000000</td>\n",
              "      <td>3174</td>\n",
              "    </tr>\n",
              "    <tr>\n",
              "      <th>4</th>\n",
              "      <td>3</td>\n",
              "      <td>18</td>\n",
              "      <td>8</td>\n",
              "      <td>0.268923</td>\n",
              "      <td>7.432000</td>\n",
              "      <td>10879</td>\n",
              "    </tr>\n",
              "  </tbody>\n",
              "</table>\n",
              "</div>"
            ],
            "text/plain": [
              "   pulocationid  dolocationid  tmode  duration      price  ridership\n",
              "0             3             7      8  0.653356  12.721600        736\n",
              "1             3             7      3  0.798016  43.157143          0\n",
              "2             3            18      3  0.254000  12.900000       1748\n",
              "3             3            18      5  1.084444   0.000000       3174\n",
              "4             3            18      8  0.268923   7.432000      10879"
            ]
          },
          "metadata": {
            "tags": []
          },
          "execution_count": 3
        }
      ]
    },
    {
      "cell_type": "code",
      "metadata": {
        "colab": {
          "base_uri": "https://localhost:8080/"
        },
        "id": "zUnj4ncQhTPB",
        "outputId": "b095b801-7326-4762-cd41-d1fce8400e3e"
      },
      "source": [
        "data.ridership.sum()"
      ],
      "execution_count": null,
      "outputs": [
        {
          "output_type": "execute_result",
          "data": {
            "text/plain": [
              "191552556"
            ]
          },
          "metadata": {
            "tags": []
          },
          "execution_count": 4
        }
      ]
    },
    {
      "cell_type": "code",
      "metadata": {
        "colab": {
          "base_uri": "https://localhost:8080/"
        },
        "id": "5c2L8g-wOP-n",
        "outputId": "b61ef089-2927-424a-b62c-f2a3d5c7695c"
      },
      "source": [
        "# number of unique O-D pairs\n",
        "\n",
        "len(data[['pulocationid', 'dolocationid']].drop_duplicates())"
      ],
      "execution_count": null,
      "outputs": [
        {
          "output_type": "execute_result",
          "data": {
            "text/plain": [
              "19152"
            ]
          },
          "metadata": {
            "tags": []
          },
          "execution_count": 5
        }
      ]
    },
    {
      "cell_type": "code",
      "metadata": {
        "colab": {
          "base_uri": "https://localhost:8080/"
        },
        "id": "6ZJUgB-tOP-n",
        "outputId": "e86f986c-3438-4318-b0fa-867c2e3a1951"
      },
      "source": [
        "# unique modes\n",
        "\n",
        "data.tmode.unique()"
      ],
      "execution_count": null,
      "outputs": [
        {
          "output_type": "execute_result",
          "data": {
            "text/plain": [
              "array([8, 3, 5, 2])"
            ]
          },
          "metadata": {
            "tags": []
          },
          "execution_count": 6
        }
      ]
    },
    {
      "cell_type": "code",
      "metadata": {
        "colab": {
          "base_uri": "https://localhost:8080/",
          "height": 423
        },
        "id": "rwPC5iPbW8GT",
        "outputId": "0b0085be-9a4c-4ca5-8bc1-d368fce6cc82"
      },
      "source": [
        "## ridership by mode\n",
        "byMode = data.groupby(by='tmode', as_index=False).sum()[['tmode', 'ridership']]\n",
        "plt.bar(np.arange(len(byMode)), list(byMode.ridership), edgecolor = 'black')\n",
        "plt.xticks([r  for r in range(len(byMode))], ['Transit', 'Taxi',\n",
        "                                                      'Walking', 'Driving'], fontsize=12)"
      ],
      "execution_count": null,
      "outputs": [
        {
          "output_type": "execute_result",
          "data": {
            "text/plain": [
              "([<matplotlib.axis.XTick at 0x7fe49cb1ad50>,\n",
              "  <matplotlib.axis.XTick at 0x7fe49cb1ad10>,\n",
              "  <matplotlib.axis.XTick at 0x7fe49cb1a910>,\n",
              "  <matplotlib.axis.XTick at 0x7fe49ca6e110>],\n",
              " [Text(0, 0, 'Transit'),\n",
              "  Text(0, 0, 'Taxi'),\n",
              "  Text(0, 0, 'Walking'),\n",
              "  Text(0, 0, 'Driving')])"
            ]
          },
          "metadata": {
            "tags": []
          },
          "execution_count": 7
        },
        {
          "output_type": "display_data",
          "data": {
            "image/png": "[encoded data removed]",
            "text/plain": [
              "<Figure size 432x288 with 1 Axes>"
            ]
          },
          "metadata": {
            "tags": [],
            "needs_background": "light"
          }
        }
      ]
    },
    {
      "cell_type": "markdown",
      "metadata": {
        "id": "t7gbqSVdOP-n"
      },
      "source": [
        "We use the Multinomial Logit (MNL) as the modeling framework for estimating the mode choice probabilities. MNL is broadly used in transportation choice modeling. It offers an advantage of estimating the mode-choice probabilities using closed-form formulas representing the aggregate-level choices.\n",
        "\n",
        "the probabilities for each of the four major transportation modes to be chosen as having the highest utility is defined as\n",
        "$$\n",
        "\\begin{equation}\n",
        "    P_{mode} = \\frac{e^{\\lambda U_{mode}}}{e^{\\lambda U_{taxi}} + e^{\\lambda U_{transit}} + e^{\\lambda U_{walk}} + e^{\\lambda U_{drive}}}\n",
        "\\end{equation}\n",
        "$$\n",
        "\n",
        "$\\lambda$ being subject to fit, which controls the sensitivity of the resulting mode choices to the differences in utility (the higher is lambda, the higher are the chances to choose the mode with the highest objective utility). We shall explain the idea of where the formulae comes from below.\n",
        "\n",
        "Additionally, we define the utilily below.\n",
        "\n",
        "Mathematically, the utility score $U_j$ for alternative ${j}$ depends on the time taken $T_j$ between the O-D pair in consideration and the monetary cost $P_j$ for choosing the alternative, and a random component of error $\\epsilon_j$ , yielding a base utility function\n",
        "$$\n",
        "\\begin{equation}\n",
        "    U_j = -(CT_j + P_j)\n",
        "\\end{equation}$$\n",
        "\n",
        "where C is kept as a constant. \n",
        "\n",
        "This objective utility can be interpreted as perceived total 'value' of a given mode for commuting between an o-d pair by the commuter, incorporating the direct cost and the cost of time. But if people were to make their choices excusively based on the objective utility we would have everyone choosing the same mode with the highest utility all the time. \n",
        "\n",
        "However the people may have some personal preferences for the certain modes to combine with the direct monetary cost to assess the overall subjective utility. The formulae of the multinomial logit model (MNL) choice probaiblities actually assesses the ratio of people for whom the given mode would have the highest subjective utility. In order to account for it an additional random error term $\\epsilon$ following a particular distribution could be added to the objective utility. This way the subjective utility to be maximized is expressed as\n",
        "$\\begin{equation}\n",
        "    U_j = -(CT_j + P_j) + \\epsilon\n",
        "\\end{equation}$\n",
        "and the formulae of the MNL model calculates the probability of having this subjective utility for any given mode the highest among all the available modes in the assumption than $\\epsilon$ follows Weibull distribution.\n",
        "\n",
        "See https://en.wikibooks.org/wiki/Fundamentals_of_Transportation/Choice_Modeling#The_Logit_Model for further details.\n",
        "\n",
        "\n",
        "#### Likelihood estimation\n",
        "\n",
        "From the estimated probabilities $P_m$, we compute the likelihood of the observed C2SMART data give the model for each set of $\\beta, \\sigma$ parameters. For mode choice probabilities $P_m(o,d,\\sigma,\\beta)$ for each set of origin(o) and destination(d), the log-likelihood for four modes given the observed C2SMART ridership $R_m(o,d)$ is calculated as\n",
        "$$\n",
        "\\begin{equation}\n",
        "    L(\\sigma, \\beta) = \\sum_{o,d}\\sum_m R_m(o,d)\\ln P_m(o,d,\\sigma,\\beta)\n",
        "\\end{equation}\n",
        "$$\n",
        "\n",
        "\n",
        "One can simulate the results just for the max-likelihood parameters, however comprehensive parameter sampling provides assessment with respect to the model uncertainty.\n",
        "\n"
      ]
    },
    {
      "cell_type": "code",
      "metadata": {
        "colab": {
          "base_uri": "https://localhost:8080/"
        },
        "id": "mk_1nzU_OP-p",
        "outputId": "5ef3c763-0791-4901-8482-60119cda14b4"
      },
      "source": [
        "# choice for constant C - put as median hourly NYC income\n",
        "# NYC median income is ~ $33,220 per year\n",
        "# we count the total hours rather than business hours to get a somewhat lower bound estimate as people tend to undervalue the price of the time spend outside of work\n",
        "# ideally C could be another parameter of the model, but here we go with a fixed estimate\n",
        "\n",
        "C = 33220/(12*30*24)\n",
        "C"
      ],
      "execution_count": null,
      "outputs": [
        {
          "output_type": "execute_result",
          "data": {
            "text/plain": [
              "3.8449074074074074"
            ]
          },
          "metadata": {
            "tags": []
          },
          "execution_count": 8
        }
      ]
    },
    {
      "cell_type": "markdown",
      "metadata": {
        "id": "w7pOdOBqX6kZ"
      },
      "source": [
        "As defined in the utility function, the coefficient C can be interpreted as a parameter incorporating irrationality of decisions based on time and cost. \n",
        "\n",
        "We use the total number of hours in a day instead of number of working hours to assess the cost of time as people often underestimate the value of time.  So we try a lower bound value (which apparently also provides a better fit to the data). It could be a good idea to fit C as another parameter of the model, but we keep it fixed to make fitting easier for the illustration purposes."
      ]
    },
    {
      "cell_type": "markdown",
      "metadata": {
        "id": "xl7TPF5LwNdF"
      },
      "source": [
        "Modeling:  We'll use Bayesian inference for fitting the model. There is just one parameter $\\lambda$ in our model specifications. We will estimate it's posterior distribution from MCMC sampling."
      ]
    },
    {
      "cell_type": "code",
      "metadata": {
        "colab": {
          "base_uri": "https://localhost:8080/",
          "height": 265
        },
        "id": "VAN57Z5Ot0dU",
        "outputId": "1296bd67-d34a-4c61-aa8a-6467383efc84"
      },
      "source": [
        "# prior for lambda \n",
        "\n",
        "fig, ax = plt.subplots()\n",
        "x= np.arange(-1,3,0.001)\n",
        "ax.plot(x, norm.pdf(x, loc=1, scale=0.5))\n",
        "\n",
        "plt.show()"
      ],
      "execution_count": null,
      "outputs": [
        {
          "output_type": "display_data",
          "data": {
            "image/png": "[encoded data removed]",
            "text/plain": [
              "<Figure size 432x288 with 1 Axes>"
            ]
          },
          "metadata": {
            "tags": [],
            "needs_background": "light"
          }
        }
      ]
    },
    {
      "cell_type": "code",
      "metadata": {
        "id": "CPGg3m1mOP-q"
      },
      "source": [
        "def MNL(lambda_, data):  # multinomial logit probabilities\n",
        "\n",
        "    # compute probabilities from utility defined above\n",
        "    prob_n = np.exp(lambda_*(-(np.random.normal(loc=data['duration'].values, scale=np.sqrt(data['duration'].values))*3.84 + \n",
        "                               np.random.normal(loc=data['price'].values, scale=np.sqrt(data['price'].values))) + np.random.normal(loc=0, scale=10)))\n",
        "    prob_d = np.sum(prob_n)\n",
        "    pred =  prob_n/prob_d\n",
        "    return pred\n",
        "    \n",
        "def like(lambda_, obs=data['ridership'], return_prob=False):   # compute likelihood\n",
        "\n",
        "    pred = []\n",
        "    # scale = 10000**2\n",
        "\n",
        "    # get MNL probabilities for each o-d travel modes\n",
        "    for o, d in zip(data[['pulocationid', 'dolocationid']].drop_duplicates()['pulocationid'], \n",
        "      data[['pulocationid', 'dolocationid']].drop_duplicates()['dolocationid']):   # iterate each o-d\n",
        "        odLoc = data[(data.pulocationid == o) & (data.dolocationid == d)]\n",
        "        pred.append(MNL(lambda_, odLoc))\n",
        "\n",
        "    pred = np.array(list(itertools.chain(*pred)))\n",
        "\n",
        "    pred = pred.astype(float)\n",
        "    pred[pred == 0] = 0.0001\n",
        "\n",
        "    # return_prob argument is for getting numpy array vs tensor (required for MCMC sampling)\n",
        "    if return_prob == True:\n",
        "        return np.sum(np.log(pred)*obs)\n",
        "    else:\n",
        "        return tt.sum(tt.log(pred)*obs)"
      ],
      "execution_count": null,
      "outputs": []
    },
    {
      "cell_type": "markdown",
      "metadata": {
        "id": "QevV_h11v-2D"
      },
      "source": [
        "Let's estimate the posterior distribution of lambda parameter from MCMC simulations."
      ]
    },
    {
      "cell_type": "code",
      "metadata": {
        "colab": {
          "base_uri": "https://localhost:8080/"
        },
        "id": "qqXL_vTwX4Bu",
        "outputId": "c21b6a0a-11b7-49a9-b8a7-13fad3064ef7"
      },
      "source": [
        "with pm.Model() as transport_model:\n",
        "    lambda1 = pm.Normal('lambda', mu=1, sd=0.5) # lambda prior\n",
        "\n",
        "    likelihood = pm.Potential('likelihood', like(lambda1.random(), data['ridership'])) ## likelihood, we call above likelihood function with 'Potential' in pymc3\n",
        "    start = pm.find_MAP()  # find max likelihood\n",
        "    trace = pm.sample(1000, start=start, progressbar=True) # estimate posterior from MCMC sampling"
      ],
      "execution_count": null,
      "outputs": [
        {
          "output_type": "stream",
          "text": [
            "logp = -1.2136e+09, ||grad|| = 0: 100%|██████████| 2/2 [00:00<00:00, 172.24it/s]\n",
            "Auto-assigning NUTS sampler...\n",
            "Initializing NUTS using jitter+adapt_diag...\n",
            "Sequential sampling (2 chains in 1 job)\n",
            "NUTS: [lambda]\n",
            "100%|██████████| 1500/1500 [00:00<00:00, 2441.13it/s]\n",
            "100%|██████████| 1500/1500 [00:00<00:00, 2547.53it/s]\n"
          ],
          "name": "stderr"
        }
      ]
    },
    {
      "cell_type": "code",
      "metadata": {
        "colab": {
          "base_uri": "https://localhost:8080/",
          "height": 189
        },
        "id": "l8P_f7mShrib",
        "outputId": "f1e1583a-b44d-49cb-f155-0f5e6e6865f4"
      },
      "source": [
        "fig = pm.traceplot(trace[199:1000])\n",
        "plt.figure(figsize = (10, 10))"
      ],
      "execution_count": null,
      "outputs": [
        {
          "output_type": "execute_result",
          "data": {
            "text/plain": [
              "<Figure size 720x720 with 0 Axes>"
            ]
          },
          "metadata": {
            "tags": []
          },
          "execution_count": 12
        },
        {
          "output_type": "display_data",
          "data": {
            "image/png": "[encoded data removed]",
            "text/plain": [
              "<Figure size 864x144 with 2 Axes>"
            ]
          },
          "metadata": {
            "tags": [],
            "needs_background": "light"
          }
        },
        {
          "output_type": "display_data",
          "data": {
            "text/plain": [
              "<Figure size 720x720 with 0 Axes>"
            ]
          },
          "metadata": {
            "tags": []
          }
        }
      ]
    },
    {
      "cell_type": "code",
      "metadata": {
        "colab": {
          "base_uri": "https://localhost:8080/",
          "height": 441
        },
        "id": "XSRisp_EYe6L",
        "outputId": "0d5e54cc-8d60-4d37-ef4b-2438a7c2b953"
      },
      "source": [
        "pm.plot_posterior(trace, figsize = (8, 6), text_size = 20);"
      ],
      "execution_count": null,
      "outputs": [
        {
          "output_type": "display_data",
          "data": {
            "image/png": "[encoded data removed]",
            "text/plain": [
              "<Figure size 576x432 with 1 Axes>"
            ]
          },
          "metadata": {
            "tags": [],
            "needs_background": "light"
          }
        }
      ]
    },
    {
      "cell_type": "code",
      "metadata": {
        "colab": {
          "base_uri": "https://localhost:8080/"
        },
        "id": "1una0Y_TZ484",
        "outputId": "102cf4c3-1dc0-4629-f7b4-8bf141185dd2"
      },
      "source": [
        "# print max-likelihood lambda\n",
        "\n",
        "print(start['lambda'])"
      ],
      "execution_count": null,
      "outputs": [
        {
          "output_type": "stream",
          "text": [
            "1.0\n"
          ],
          "name": "stdout"
        }
      ]
    },
    {
      "cell_type": "markdown",
      "metadata": {
        "id": "wTL9qq8yOP-q"
      },
      "source": [
        "### Assessing mode-shift in an intervention scenario\n",
        "\n",
        "Now let's use the above model to evaluate the change in mobility across 4 modes when we impose an intervention case - additional surcharge of $3 for taxi rides anywhere in the city. One can expect a decrease in ridership for taxis owing to this intervention but assessing the mode-shift would enable to see how exactly the trips would redistribute across the other modes.\n",
        "\n",
        "We will estimate the mode-shift numbers with respect to uncertainty by calculating the variance in trip numbers across all modes. This can be done by estimating variance of mode-shift numbers for lambdas drawn from posterior distribution, weighted by their likelihood values."
      ]
    },
    {
      "cell_type": "markdown",
      "metadata": {
        "id": "ebUGNowRrBjV"
      },
      "source": [
        "Now let's make another copy of data with the additional $3 surcharge to the taxi trips."
      ]
    },
    {
      "cell_type": "code",
      "metadata": {
        "colab": {
          "base_uri": "https://localhost:8080/",
          "height": 202
        },
        "id": "FMEKoF2WmdF4",
        "outputId": "e7ffbb2f-c9c4-4f3b-a933-94d4f0385dad"
      },
      "source": [
        "data1 = data.copy()  # make new df\n",
        "data1.loc[data1.tmode == 3, 'price'] = data1.loc[data1.tmode == 3, 'price'] + 3\n",
        "data1.head()"
      ],
      "execution_count": null,
      "outputs": [
        {
          "output_type": "execute_result",
          "data": {
            "text/html": [
              "<div>\n",
              "<style scoped>\n",
              "    .dataframe tbody tr th:only-of-type {\n",
              "        vertical-align: middle;\n",
              "    }\n",
              "\n",
              "    .dataframe tbody tr th {\n",
              "        vertical-align: top;\n",
              "    }\n",
              "\n",
              "    .dataframe thead th {\n",
              "        text-align: right;\n",
              "    }\n",
              "</style>\n",
              "<table border=\"1\" class=\"dataframe\">\n",
              "  <thead>\n",
              "    <tr style=\"text-align: right;\">\n",
              "      <th></th>\n",
              "      <th>pulocationid</th>\n",
              "      <th>dolocationid</th>\n",
              "      <th>tmode</th>\n",
              "      <th>duration</th>\n",
              "      <th>price</th>\n",
              "      <th>ridership</th>\n",
              "    </tr>\n",
              "  </thead>\n",
              "  <tbody>\n",
              "    <tr>\n",
              "      <th>0</th>\n",
              "      <td>3</td>\n",
              "      <td>7</td>\n",
              "      <td>8</td>\n",
              "      <td>0.653356</td>\n",
              "      <td>12.721600</td>\n",
              "      <td>736</td>\n",
              "    </tr>\n",
              "    <tr>\n",
              "      <th>1</th>\n",
              "      <td>3</td>\n",
              "      <td>7</td>\n",
              "      <td>3</td>\n",
              "      <td>0.798016</td>\n",
              "      <td>46.157143</td>\n",
              "      <td>0</td>\n",
              "    </tr>\n",
              "    <tr>\n",
              "      <th>2</th>\n",
              "      <td>3</td>\n",
              "      <td>18</td>\n",
              "      <td>3</td>\n",
              "      <td>0.254000</td>\n",
              "      <td>15.900000</td>\n",
              "      <td>1748</td>\n",
              "    </tr>\n",
              "    <tr>\n",
              "      <th>3</th>\n",
              "      <td>3</td>\n",
              "      <td>18</td>\n",
              "      <td>5</td>\n",
              "      <td>1.084444</td>\n",
              "      <td>0.000000</td>\n",
              "      <td>3174</td>\n",
              "    </tr>\n",
              "    <tr>\n",
              "      <th>4</th>\n",
              "      <td>3</td>\n",
              "      <td>18</td>\n",
              "      <td>8</td>\n",
              "      <td>0.268923</td>\n",
              "      <td>7.432000</td>\n",
              "      <td>10879</td>\n",
              "    </tr>\n",
              "  </tbody>\n",
              "</table>\n",
              "</div>"
            ],
            "text/plain": [
              "   pulocationid  dolocationid  tmode  duration      price  ridership\n",
              "0             3             7      8  0.653356  12.721600        736\n",
              "1             3             7      3  0.798016  46.157143          0\n",
              "2             3            18      3  0.254000  15.900000       1748\n",
              "3             3            18      5  1.084444   0.000000       3174\n",
              "4             3            18      8  0.268923   7.432000      10879"
            ]
          },
          "metadata": {
            "tags": []
          },
          "execution_count": 15
        }
      ]
    },
    {
      "cell_type": "markdown",
      "metadata": {
        "id": "at2R15lAhJNh"
      },
      "source": [
        "Let's run the model and estimate aggregate mode-shift across modes w.r.t. uncertainty."
      ]
    },
    {
      "cell_type": "code",
      "metadata": {
        "id": "tRVeMDGjsFzB"
      },
      "source": [
        "lambdas = np.random.choice(trace['lambda'], 10)  # draw samples from lambda posterior\n",
        "# this step could take ~15 mins for 100 samples, reduce the number of samples for faster\n",
        "\n",
        "likes = []   # likelihood values\n",
        "mobDiff = {2:[], 3:[], 5:[], 8:[]}   # mode-shift numbers\n",
        "\n",
        "# estimate trips for lambdas and corresponding likelihoods\n",
        "for l in lambdas:\n",
        "    tempMob_noInter = {2:0, 3:0, 5:0, 8:0}   \n",
        "    tempMob_Inter = {2:0, 3:0, 5:0, 8:0}\n",
        "    for o, d in zip(data[['pulocationid', 'dolocationid']].drop_duplicates()['pulocationid'], \n",
        "        data[['pulocationid', 'dolocationid']].drop_duplicates()['dolocationid']):\n",
        "    \n",
        "        odLoc_noInter = data[(data.pulocationid == o) & (data.dolocationid == d)]\n",
        "        odLoc_Inter = data1[(data1.pulocationid == o) & (data1.dolocationid == d)]  \n",
        "        modes = odLoc_Inter.tmode.values\n",
        "\n",
        "        # probabilities for pre-intervention and post-intervention\n",
        "        prob_noInter = MNL(l, odLoc_noInter)  \n",
        "        prob_Inter = MNL(l, odLoc_Inter)    \n",
        "\n",
        "        for index, mode in enumerate(modes):\n",
        "            tempMob_Inter[mode] = tempMob_Inter[mode] + prob_Inter[index]*np.sum(odLoc_noInter['ridership'])\n",
        "            tempMob_noInter[mode] = tempMob_noInter[mode] + prob_noInter[index]*np.sum(odLoc_Inter['ridership'])\n",
        "        \n",
        "    lhood = np.exp(like(l, return_prob=True))   # likelihood\n",
        "    for it in mobDiff.keys():\n",
        "        mobDiff[it].append(100.0 * tempMob_Inter[it] / tempMob_noInter[it] - 100.0)\n",
        "    likes.append(lhood)\n",
        "            # tempMob.update((x , y*l)for x, y in tempMob.items())"
      ],
      "execution_count": null,
      "outputs": []
    },
    {
      "cell_type": "code",
      "metadata": {
        "colab": {
          "base_uri": "https://localhost:8080/"
        },
        "id": "6SxqcnRtd2C_",
        "outputId": "8b5a282b-9d78-46ee-90b4-2833f33e24f1"
      },
      "source": [
        "# calculate average and std of mode-shift percentages (relative drop or increase in each mode usage after the intervention)\n",
        "\n",
        "for mode in mobDiff.keys():\n",
        "\n",
        "    mean = np.average(mobDiff[mode])\n",
        "    std = abs(np.average((mobDiff[mode] - np.mean(mobDiff[mode]))**2))\n",
        "    print('average change for mode', mode, ':', mean, ', std:', np.sqrt(std))"
      ],
      "execution_count": null,
      "outputs": [
        {
          "output_type": "stream",
          "text": [
            "average change for mode 2 : 2.4085387980951922 , std: 1.4897414509327478\n",
            "average change for mode 3 : -45.298348391849714 , std: 9.183923313748616\n",
            "average change for mode 5 : nan , std: nan\n",
            "average change for mode 8 : 1.9808723936841517 , std: 3.7991235299670736\n"
          ],
          "name": "stdout"
        }
      ]
    },
    {
      "cell_type": "markdown",
      "metadata": {
        "id": "HCr8GoZuzVpI"
      },
      "source": [
        "## HW tasks:\n",
        "\n",
        "Assess the mode-shift impacts (%% of change in each mode usage with respect to uncertainty) from:\n",
        "1. Surcharge of \\\\$1, \\\\$5 and \\\\$10 imposed on private car trips (tmode=8)\n",
        "\n",
        "2. EXTRACREDIT: Surcharge of \\\\$3 surcharge to taxi trips, but added only to trips originating from Manhattan.\n",
        "\n",
        "you will need to read the NYC taxi zone shapefile from github. https://github.com/CUSP2021ADS/Data/blob/main/taxizone.geojson\n"
      ]
    },
    {
      "cell_type": "code",
      "metadata": {
        "id": "qdqFbrTA90_Z",
        "colab": {
          "base_uri": "https://localhost:8080/",
          "height": 202
        },
        "outputId": "2d297930-a4a0-469e-abe0-1321378f0d5c"
      },
      "source": [
        "data2 = data.copy()  # make new df\n",
        "data2.loc[data2.tmode == 8, 'price'] = data2.loc[data2.tmode == 8, 'price'] + 1\n",
        "data2.head()"
      ],
      "execution_count": null,
      "outputs": [
        {
          "output_type": "execute_result",
          "data": {
            "text/html": [
              "<div>\n",
              "<style scoped>\n",
              "    .dataframe tbody tr th:only-of-type {\n",
              "        vertical-align: middle;\n",
              "    }\n",
              "\n",
              "    .dataframe tbody tr th {\n",
              "        vertical-align: top;\n",
              "    }\n",
              "\n",
              "    .dataframe thead th {\n",
              "        text-align: right;\n",
              "    }\n",
              "</style>\n",
              "<table border=\"1\" class=\"dataframe\">\n",
              "  <thead>\n",
              "    <tr style=\"text-align: right;\">\n",
              "      <th></th>\n",
              "      <th>pulocationid</th>\n",
              "      <th>dolocationid</th>\n",
              "      <th>tmode</th>\n",
              "      <th>duration</th>\n",
              "      <th>price</th>\n",
              "      <th>ridership</th>\n",
              "    </tr>\n",
              "  </thead>\n",
              "  <tbody>\n",
              "    <tr>\n",
              "      <th>0</th>\n",
              "      <td>3</td>\n",
              "      <td>7</td>\n",
              "      <td>8</td>\n",
              "      <td>0.653356</td>\n",
              "      <td>13.721600</td>\n",
              "      <td>736</td>\n",
              "    </tr>\n",
              "    <tr>\n",
              "      <th>1</th>\n",
              "      <td>3</td>\n",
              "      <td>7</td>\n",
              "      <td>3</td>\n",
              "      <td>0.798016</td>\n",
              "      <td>43.157143</td>\n",
              "      <td>0</td>\n",
              "    </tr>\n",
              "    <tr>\n",
              "      <th>2</th>\n",
              "      <td>3</td>\n",
              "      <td>18</td>\n",
              "      <td>3</td>\n",
              "      <td>0.254000</td>\n",
              "      <td>12.900000</td>\n",
              "      <td>1748</td>\n",
              "    </tr>\n",
              "    <tr>\n",
              "      <th>3</th>\n",
              "      <td>3</td>\n",
              "      <td>18</td>\n",
              "      <td>5</td>\n",
              "      <td>1.084444</td>\n",
              "      <td>0.000000</td>\n",
              "      <td>3174</td>\n",
              "    </tr>\n",
              "    <tr>\n",
              "      <th>4</th>\n",
              "      <td>3</td>\n",
              "      <td>18</td>\n",
              "      <td>8</td>\n",
              "      <td>0.268923</td>\n",
              "      <td>8.432000</td>\n",
              "      <td>10879</td>\n",
              "    </tr>\n",
              "  </tbody>\n",
              "</table>\n",
              "</div>"
            ],
            "text/plain": [
              "   pulocationid  dolocationid  tmode  duration      price  ridership\n",
              "0             3             7      8  0.653356  13.721600        736\n",
              "1             3             7      3  0.798016  43.157143          0\n",
              "2             3            18      3  0.254000  12.900000       1748\n",
              "3             3            18      5  1.084444   0.000000       3174\n",
              "4             3            18      8  0.268923   8.432000      10879"
            ]
          },
          "metadata": {
            "tags": []
          },
          "execution_count": 18
        }
      ]
    },
    {
      "cell_type": "code",
      "metadata": {
        "id": "yrBUa18PVLmt"
      },
      "source": [
        "lambdas = np.random.choice(trace['lambda'], 10)  # draw samples from lambda posterior\n",
        "# this step could take ~15 mins for 100 samples, reduce the number of samples for faster\n",
        "\n",
        "likes = []   # likelihood values\n",
        "mobDiff = {2:[], 3:[], 5:[], 8:[]}   # mode-shift numbers\n",
        "\n",
        "# estimate trips for lambdas and corresponding likelihoods\n",
        "for l in lambdas:\n",
        "    tempMob_noInter = {2:0, 3:0, 5:0, 8:0}   \n",
        "    tempMob_Inter = {2:0, 3:0, 5:0, 8:0}\n",
        "    for o, d in zip(data[['pulocationid', 'dolocationid']].drop_duplicates()['pulocationid'], \n",
        "        data[['pulocationid', 'dolocationid']].drop_duplicates()['dolocationid']):\n",
        "    \n",
        "        odLoc_noInter = data[(data.pulocationid == o) & (data.dolocationid == d)]\n",
        "        odLoc_Inter = data2[(data2.pulocationid == o) & (data2.dolocationid == d)]  \n",
        "        modes = odLoc_Inter.tmode.values\n",
        "\n",
        "        # probabilities for pre-intervention and post-intervention\n",
        "        prob_noInter = MNL(l, odLoc_noInter)  \n",
        "        prob_Inter = MNL(l, odLoc_Inter)    \n",
        "\n",
        "        for index, mode in enumerate(modes):\n",
        "            tempMob_Inter[mode] = tempMob_Inter[mode] + prob_Inter[index]*np.sum(odLoc_noInter['ridership'])\n",
        "            tempMob_noInter[mode] = tempMob_noInter[mode] + prob_noInter[index]*np.sum(odLoc_Inter['ridership'])\n",
        "        \n",
        "    lhood = np.exp(like(l, return_prob=True))   # likelihood\n",
        "    for it in mobDiff.keys():\n",
        "        mobDiff[it].append(100.0 * tempMob_Inter[it] / tempMob_noInter[it] - 100.0)\n",
        "    likes.append(lhood)\n",
        "            # tempMob.update((x , y*l)for x, y in tempMob.items())"
      ],
      "execution_count": null,
      "outputs": []
    },
    {
      "cell_type": "code",
      "metadata": {
        "colab": {
          "base_uri": "https://localhost:8080/"
        },
        "id": "a9WqYHCoaaZC",
        "outputId": "c6a51702-f7e9-4558-e572-584183d5fbc6"
      },
      "source": [
        "for mode in mobDiff.keys():\n",
        "\n",
        "    mean = np.average(mobDiff[mode])\n",
        "    std = abs(np.average((mobDiff[mode] - np.mean(mobDiff[mode]))**2))\n",
        "    print('average change for mode', mode, ':', mean, ', std:', np.sqrt(std))"
      ],
      "execution_count": null,
      "outputs": [
        {
          "output_type": "stream",
          "text": [
            "average change for mode 2 : 2.290918717973109 , std: 1.2020545438173704\n",
            "average change for mode 3 : 12.28912139060763 , std: 10.95690002401882\n",
            "average change for mode 5 : 1.6062645596674288 , std: 4.444132667708405\n",
            "average change for mode 8 : -11.566435024838277 , std: 7.181104651500184\n"
          ],
          "name": "stdout"
        }
      ]
    },
    {
      "cell_type": "code",
      "metadata": {
        "colab": {
          "base_uri": "https://localhost:8080/",
          "height": 202
        },
        "id": "noDY7ZEKaGT1",
        "outputId": "c15bbdb7-2002-480c-e43b-f0a52cecc05d"
      },
      "source": [
        "data3 = data.copy()  # make new df\n",
        "data3.loc[data3.tmode == 8, 'price'] = data3.loc[data3.tmode == 8, 'price'] + 5\n",
        "data3.head()"
      ],
      "execution_count": null,
      "outputs": [
        {
          "output_type": "execute_result",
          "data": {
            "text/html": [
              "<div>\n",
              "<style scoped>\n",
              "    .dataframe tbody tr th:only-of-type {\n",
              "        vertical-align: middle;\n",
              "    }\n",
              "\n",
              "    .dataframe tbody tr th {\n",
              "        vertical-align: top;\n",
              "    }\n",
              "\n",
              "    .dataframe thead th {\n",
              "        text-align: right;\n",
              "    }\n",
              "</style>\n",
              "<table border=\"1\" class=\"dataframe\">\n",
              "  <thead>\n",
              "    <tr style=\"text-align: right;\">\n",
              "      <th></th>\n",
              "      <th>pulocationid</th>\n",
              "      <th>dolocationid</th>\n",
              "      <th>tmode</th>\n",
              "      <th>duration</th>\n",
              "      <th>price</th>\n",
              "      <th>ridership</th>\n",
              "    </tr>\n",
              "  </thead>\n",
              "  <tbody>\n",
              "    <tr>\n",
              "      <th>0</th>\n",
              "      <td>3</td>\n",
              "      <td>7</td>\n",
              "      <td>8</td>\n",
              "      <td>0.653356</td>\n",
              "      <td>17.721600</td>\n",
              "      <td>736</td>\n",
              "    </tr>\n",
              "    <tr>\n",
              "      <th>1</th>\n",
              "      <td>3</td>\n",
              "      <td>7</td>\n",
              "      <td>3</td>\n",
              "      <td>0.798016</td>\n",
              "      <td>43.157143</td>\n",
              "      <td>0</td>\n",
              "    </tr>\n",
              "    <tr>\n",
              "      <th>2</th>\n",
              "      <td>3</td>\n",
              "      <td>18</td>\n",
              "      <td>3</td>\n",
              "      <td>0.254000</td>\n",
              "      <td>12.900000</td>\n",
              "      <td>1748</td>\n",
              "    </tr>\n",
              "    <tr>\n",
              "      <th>3</th>\n",
              "      <td>3</td>\n",
              "      <td>18</td>\n",
              "      <td>5</td>\n",
              "      <td>1.084444</td>\n",
              "      <td>0.000000</td>\n",
              "      <td>3174</td>\n",
              "    </tr>\n",
              "    <tr>\n",
              "      <th>4</th>\n",
              "      <td>3</td>\n",
              "      <td>18</td>\n",
              "      <td>8</td>\n",
              "      <td>0.268923</td>\n",
              "      <td>12.432000</td>\n",
              "      <td>10879</td>\n",
              "    </tr>\n",
              "  </tbody>\n",
              "</table>\n",
              "</div>"
            ],
            "text/plain": [
              "   pulocationid  dolocationid  tmode  duration      price  ridership\n",
              "0             3             7      8  0.653356  17.721600        736\n",
              "1             3             7      3  0.798016  43.157143          0\n",
              "2             3            18      3  0.254000  12.900000       1748\n",
              "3             3            18      5  1.084444   0.000000       3174\n",
              "4             3            18      8  0.268923  12.432000      10879"
            ]
          },
          "metadata": {
            "tags": []
          },
          "execution_count": 22
        }
      ]
    },
    {
      "cell_type": "code",
      "metadata": {
        "id": "OhUBZ1x5aRDL"
      },
      "source": [
        "lambdas = np.random.choice(trace['lambda'], 10)  # draw samples from lambda posterior\n",
        "# this step could take ~15 mins for 100 samples, reduce the number of samples for faster\n",
        "\n",
        "likes = []   # likelihood values\n",
        "mobDiff = {2:[], 3:[], 5:[], 8:[]}   # mode-shift numbers\n",
        "\n",
        "# estimate trips for lambdas and corresponding likelihoods\n",
        "for l in lambdas:\n",
        "    tempMob_noInter = {2:0, 3:0, 5:0, 8:0}   \n",
        "    tempMob_Inter = {2:0, 3:0, 5:0, 8:0}\n",
        "    for o, d in zip(data[['pulocationid', 'dolocationid']].drop_duplicates()['pulocationid'], \n",
        "        data[['pulocationid', 'dolocationid']].drop_duplicates()['dolocationid']):\n",
        "    \n",
        "        odLoc_noInter = data[(data.pulocationid == o) & (data.dolocationid == d)]\n",
        "        odLoc_Inter = data3[(data3.pulocationid == o) & (data3.dolocationid == d)]  \n",
        "        modes = odLoc_Inter.tmode.values\n",
        "\n",
        "        # probabilities for pre-intervention and post-intervention\n",
        "        prob_noInter = MNL(l, odLoc_noInter)  \n",
        "        prob_Inter = MNL(l, odLoc_Inter)    \n",
        "\n",
        "        for index, mode in enumerate(modes):\n",
        "            tempMob_Inter[mode] = tempMob_Inter[mode] + prob_Inter[index]*np.sum(odLoc_noInter['ridership'])\n",
        "            tempMob_noInter[mode] = tempMob_noInter[mode] + prob_noInter[index]*np.sum(odLoc_Inter['ridership'])\n",
        "        \n",
        "    lhood = np.exp(like(l, return_prob=True))   # likelihood\n",
        "    for it in mobDiff.keys():\n",
        "        mobDiff[it].append(100.0 * tempMob_Inter[it] / tempMob_noInter[it] - 100.0)\n",
        "    likes.append(lhood)\n",
        "            # tempMob.update((x , y*l)for x, y in tempMob.items())"
      ],
      "execution_count": null,
      "outputs": []
    },
    {
      "cell_type": "code",
      "metadata": {
        "colab": {
          "base_uri": "https://localhost:8080/"
        },
        "id": "mWi8cYqVcv1u",
        "outputId": "4e345505-78c0-4557-ceeb-32f8f16280d9"
      },
      "source": [
        "for mode in mobDiff.keys():\n",
        "\n",
        "    mean = np.average(mobDiff[mode])\n",
        "    std = abs(np.average((mobDiff[mode] - np.mean(mobDiff[mode]))**2))\n",
        "    print('average change for mode', mode, ':', mean, ', std:', np.sqrt(std))"
      ],
      "execution_count": null,
      "outputs": [
        {
          "output_type": "stream",
          "text": [
            "average change for mode 2 : 11.14928638512382 , std: 4.5209855930592475\n",
            "average change for mode 3 : 22.673253947960273 , std: 13.132573964362745\n",
            "average change for mode 5 : nan , std: nan\n",
            "average change for mode 8 : -47.12248104431767 , std: 17.4237808662432\n"
          ],
          "name": "stdout"
        }
      ]
    },
    {
      "cell_type": "code",
      "metadata": {
        "colab": {
          "base_uri": "https://localhost:8080/",
          "height": 202
        },
        "id": "nSlbyN2Nc4LI",
        "outputId": "baa6ef01-3e04-4b00-a3eb-8cb7a23a5124"
      },
      "source": [
        "data4 = data.copy()  # make new df\n",
        "data4.loc[data4.tmode == 8, 'price'] = data4.loc[data4.tmode == 8, 'price'] + 10\n",
        "data4.head()"
      ],
      "execution_count": null,
      "outputs": [
        {
          "output_type": "execute_result",
          "data": {
            "text/html": [
              "<div>\n",
              "<style scoped>\n",
              "    .dataframe tbody tr th:only-of-type {\n",
              "        vertical-align: middle;\n",
              "    }\n",
              "\n",
              "    .dataframe tbody tr th {\n",
              "        vertical-align: top;\n",
              "    }\n",
              "\n",
              "    .dataframe thead th {\n",
              "        text-align: right;\n",
              "    }\n",
              "</style>\n",
              "<table border=\"1\" class=\"dataframe\">\n",
              "  <thead>\n",
              "    <tr style=\"text-align: right;\">\n",
              "      <th></th>\n",
              "      <th>pulocationid</th>\n",
              "      <th>dolocationid</th>\n",
              "      <th>tmode</th>\n",
              "      <th>duration</th>\n",
              "      <th>price</th>\n",
              "      <th>ridership</th>\n",
              "    </tr>\n",
              "  </thead>\n",
              "  <tbody>\n",
              "    <tr>\n",
              "      <th>0</th>\n",
              "      <td>3</td>\n",
              "      <td>7</td>\n",
              "      <td>8</td>\n",
              "      <td>0.653356</td>\n",
              "      <td>22.721600</td>\n",
              "      <td>736</td>\n",
              "    </tr>\n",
              "    <tr>\n",
              "      <th>1</th>\n",
              "      <td>3</td>\n",
              "      <td>7</td>\n",
              "      <td>3</td>\n",
              "      <td>0.798016</td>\n",
              "      <td>43.157143</td>\n",
              "      <td>0</td>\n",
              "    </tr>\n",
              "    <tr>\n",
              "      <th>2</th>\n",
              "      <td>3</td>\n",
              "      <td>18</td>\n",
              "      <td>3</td>\n",
              "      <td>0.254000</td>\n",
              "      <td>12.900000</td>\n",
              "      <td>1748</td>\n",
              "    </tr>\n",
              "    <tr>\n",
              "      <th>3</th>\n",
              "      <td>3</td>\n",
              "      <td>18</td>\n",
              "      <td>5</td>\n",
              "      <td>1.084444</td>\n",
              "      <td>0.000000</td>\n",
              "      <td>3174</td>\n",
              "    </tr>\n",
              "    <tr>\n",
              "      <th>4</th>\n",
              "      <td>3</td>\n",
              "      <td>18</td>\n",
              "      <td>8</td>\n",
              "      <td>0.268923</td>\n",
              "      <td>17.432000</td>\n",
              "      <td>10879</td>\n",
              "    </tr>\n",
              "  </tbody>\n",
              "</table>\n",
              "</div>"
            ],
            "text/plain": [
              "   pulocationid  dolocationid  tmode  duration      price  ridership\n",
              "0             3             7      8  0.653356  22.721600        736\n",
              "1             3             7      3  0.798016  43.157143          0\n",
              "2             3            18      3  0.254000  12.900000       1748\n",
              "3             3            18      5  1.084444   0.000000       3174\n",
              "4             3            18      8  0.268923  17.432000      10879"
            ]
          },
          "metadata": {
            "tags": []
          },
          "execution_count": 25
        }
      ]
    },
    {
      "cell_type": "code",
      "metadata": {
        "id": "McO8FiAAdC7r"
      },
      "source": [
        "lambdas = np.random.choice(trace['lambda'], 10)  # draw samples from lambda posterior\n",
        "# this step could take ~15 mins for 100 samples, reduce the number of samples for faster\n",
        "\n",
        "likes = []   # likelihood values\n",
        "mobDiff = {2:[], 3:[], 5:[], 8:[]}   # mode-shift numbers\n",
        "\n",
        "# estimate trips for lambdas and corresponding likelihoods\n",
        "for l in lambdas:\n",
        "    tempMob_noInter = {2:0, 3:0, 5:0, 8:0}   \n",
        "    tempMob_Inter = {2:0, 3:0, 5:0, 8:0}\n",
        "    for o, d in zip(data[['pulocationid', 'dolocationid']].drop_duplicates()['pulocationid'], \n",
        "        data[['pulocationid', 'dolocationid']].drop_duplicates()['dolocationid']):\n",
        "    \n",
        "        odLoc_noInter = data[(data.pulocationid == o) & (data.dolocationid == d)]\n",
        "        odLoc_Inter = data4[(data4.pulocationid == o) & (data4.dolocationid == d)]  \n",
        "        modes = odLoc_Inter.tmode.values\n",
        "\n",
        "        # probabilities for pre-intervention and post-intervention\n",
        "        prob_noInter = MNL(l, odLoc_noInter)  \n",
        "        prob_Inter = MNL(l, odLoc_Inter)    \n",
        "\n",
        "        for index, mode in enumerate(modes):\n",
        "            tempMob_Inter[mode] = tempMob_Inter[mode] + prob_Inter[index]*np.sum(odLoc_noInter['ridership'])\n",
        "            tempMob_noInter[mode] = tempMob_noInter[mode] + prob_noInter[index]*np.sum(odLoc_Inter['ridership'])\n",
        "        \n",
        "    lhood = np.exp(like(l, return_prob=True))   # likelihood\n",
        "    for it in mobDiff.keys():\n",
        "        mobDiff[it].append(100.0 * tempMob_Inter[it] / tempMob_noInter[it] - 100.0)\n",
        "    likes.append(lhood)\n",
        "            # tempMob.update((x , y*l)for x, y in tempMob.items())"
      ],
      "execution_count": null,
      "outputs": []
    },
    {
      "cell_type": "code",
      "metadata": {
        "colab": {
          "base_uri": "https://localhost:8080/"
        },
        "id": "ImfmSnD4dN0J",
        "outputId": "bbd23b7d-905f-4e2f-d98e-ac181643c9e2"
      },
      "source": [
        "for mode in mobDiff.keys():\n",
        "\n",
        "    mean = np.average(mobDiff[mode])\n",
        "    std = abs(np.average((mobDiff[mode] - np.mean(mobDiff[mode]))**2))\n",
        "    print('average change for mode', mode, ':', mean, ', std:', np.sqrt(std))"
      ],
      "execution_count": null,
      "outputs": [
        {
          "output_type": "stream",
          "text": [
            "average change for mode 2 : 17.046265576900154 , std: 1.7492660023194726\n",
            "average change for mode 3 : 49.27720232790678 , std: 12.71683269371143\n",
            "average change for mode 5 : nan , std: nan\n",
            "average change for mode 8 : -75.68415763434777 , std: 1.216207052340346\n"
          ],
          "name": "stdout"
        }
      ]
    }
  ]
}